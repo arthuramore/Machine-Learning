{
 "cells": [
  {
   "cell_type": "code",
   "execution_count": 354,
   "metadata": {
    "collapsed": true
   },
   "outputs": [],
   "source": [
    "import pandas as pd\n",
    "import numpy as np\n",
    "import matplotlib.pyplot as plt\n",
    "import seaborn as sns\n",
    "\n",
    "%matplotlib inline\n",
    "\n",
    "from sklearn.model_selection import train_test_split\n",
    "from sklearn import preprocessing\n",
    "from sklearn.ensemble import RandomForestClassifier,GradientBoostingClassifier\n",
    "from sklearn.metrics import confusion_matrix, accuracy_score,classification_report\n",
    "from sklearn.neighbors import KNeighborsClassifier"
   ]
  },
  {
   "cell_type": "code",
   "execution_count": 253,
   "metadata": {},
   "outputs": [],
   "source": [
    "sns.set(rc={'figure.figsize':(13,10)})"
   ]
  },
  {
   "cell_type": "code",
   "execution_count": 254,
   "metadata": {},
   "outputs": [],
   "source": [
    "df = pd.read_csv(\"h1b_kaggle.csv\", encoding='iso-8859-1',low_memory=False)"
   ]
  },
  {
   "cell_type": "code",
   "execution_count": 255,
   "metadata": {
    "scrolled": true
   },
   "outputs": [
    {
     "data": {
      "text/html": [
       "<div>\n",
       "<style scoped>\n",
       "    .dataframe tbody tr th:only-of-type {\n",
       "        vertical-align: middle;\n",
       "    }\n",
       "\n",
       "    .dataframe tbody tr th {\n",
       "        vertical-align: top;\n",
       "    }\n",
       "\n",
       "    .dataframe thead th {\n",
       "        text-align: right;\n",
       "    }\n",
       "</style>\n",
       "<table border=\"1\" class=\"dataframe\">\n",
       "  <thead>\n",
       "    <tr style=\"text-align: right;\">\n",
       "      <th></th>\n",
       "      <th>Unnamed: 0</th>\n",
       "      <th>CASE_STATUS</th>\n",
       "      <th>EMPLOYER_NAME</th>\n",
       "      <th>SOC_NAME</th>\n",
       "      <th>JOB_TITLE</th>\n",
       "      <th>FULL_TIME_POSITION</th>\n",
       "      <th>PREVAILING_WAGE</th>\n",
       "      <th>YEAR</th>\n",
       "      <th>WORKSITE</th>\n",
       "      <th>lon</th>\n",
       "      <th>lat</th>\n",
       "    </tr>\n",
       "  </thead>\n",
       "  <tbody>\n",
       "    <tr>\n",
       "      <th>0</th>\n",
       "      <td>1</td>\n",
       "      <td>CERTIFIED-WITHDRAWN</td>\n",
       "      <td>UNIVERSITY OF MICHIGAN</td>\n",
       "      <td>BIOCHEMISTS AND BIOPHYSICISTS</td>\n",
       "      <td>POSTDOCTORAL RESEARCH FELLOW</td>\n",
       "      <td>N</td>\n",
       "      <td>36067</td>\n",
       "      <td>20£1*6</td>\n",
       "      <td>ANN ARBOR, MICHIGAN</td>\n",
       "      <td>-83.7430378</td>\n",
       "      <td>42.2808256</td>\n",
       "    </tr>\n",
       "    <tr>\n",
       "      <th>1</th>\n",
       "      <td>2</td>\n",
       "      <td>CERTIFIED-WITHDRAWN</td>\n",
       "      <td>GOODMAN NETWORKS, INC.</td>\n",
       "      <td>CHIEF EXECUTIVES232</td>\n",
       "      <td>CHIEF OPERATING OFFICER</td>\n",
       "      <td>Y</td>\n",
       "      <td>242674</td>\n",
       "      <td>20£1*6</td>\n",
       "      <td>PLANO, TEXAS</td>\n",
       "      <td>-96.6988856</td>\n",
       "      <td>33.0198431</td>\n",
       "    </tr>\n",
       "    <tr>\n",
       "      <th>2</th>\n",
       "      <td>3</td>\n",
       "      <td>CERTIFIED-WITHDRAWN</td>\n",
       "      <td>PORTS AMERICA GROUP, INC.</td>\n",
       "      <td>CHIEF EXECUTIVES232</td>\n",
       "      <td>CHIEF PROCESS OFFICER</td>\n",
       "      <td>Y</td>\n",
       "      <td>193066</td>\n",
       "      <td>20£1*6</td>\n",
       "      <td>JERSEY CITY, NEW JERSEY</td>\n",
       "      <td>-74.0776417</td>\n",
       "      <td>40.7281575</td>\n",
       "    </tr>\n",
       "    <tr>\n",
       "      <th>3</th>\n",
       "      <td>4</td>\n",
       "      <td>CERTIFIED-WITHDRAWN</td>\n",
       "      <td>GATES CORPORATION, A WHOLLY-OWNED SUBSIDIARY O...</td>\n",
       "      <td>CHIEF EXECUTIVES232</td>\n",
       "      <td>REGIONAL PRESIDEN, AMERICAS</td>\n",
       "      <td>Y</td>\n",
       "      <td>220314</td>\n",
       "      <td>20£1*6</td>\n",
       "      <td>DENVER, COLORADO</td>\n",
       "      <td>-104.990251</td>\n",
       "      <td>39.7392358</td>\n",
       "    </tr>\n",
       "    <tr>\n",
       "      <th>4</th>\n",
       "      <td>5</td>\n",
       "      <td>WITHDRAWN</td>\n",
       "      <td>PEABODY INVESTMENTS CORP.</td>\n",
       "      <td>CHIEF EXECUTIVES232</td>\n",
       "      <td>PRESIDENT MONGOLIA AND INDIA</td>\n",
       "      <td>Y</td>\n",
       "      <td>157518.4</td>\n",
       "      <td>20£1*6</td>\n",
       "      <td>ST. LOUIS, MISSOURI</td>\n",
       "      <td>-90.1994042</td>\n",
       "      <td>38.6270025</td>\n",
       "    </tr>\n",
       "  </tbody>\n",
       "</table>\n",
       "</div>"
      ],
      "text/plain": [
       "  Unnamed: 0          CASE_STATUS  \\\n",
       "0          1  CERTIFIED-WITHDRAWN   \n",
       "1          2  CERTIFIED-WITHDRAWN   \n",
       "2          3  CERTIFIED-WITHDRAWN   \n",
       "3          4  CERTIFIED-WITHDRAWN   \n",
       "4          5            WITHDRAWN   \n",
       "\n",
       "                                       EMPLOYER_NAME  \\\n",
       "0                             UNIVERSITY OF MICHIGAN   \n",
       "1                             GOODMAN NETWORKS, INC.   \n",
       "2                          PORTS AMERICA GROUP, INC.   \n",
       "3  GATES CORPORATION, A WHOLLY-OWNED SUBSIDIARY O...   \n",
       "4                          PEABODY INVESTMENTS CORP.   \n",
       "\n",
       "                        SOC_NAME                     JOB_TITLE  \\\n",
       "0  BIOCHEMISTS AND BIOPHYSICISTS  POSTDOCTORAL RESEARCH FELLOW   \n",
       "1            CHIEF EXECUTIVES232       CHIEF OPERATING OFFICER   \n",
       "2            CHIEF EXECUTIVES232         CHIEF PROCESS OFFICER   \n",
       "3            CHIEF EXECUTIVES232   REGIONAL PRESIDEN, AMERICAS   \n",
       "4            CHIEF EXECUTIVES232  PRESIDENT MONGOLIA AND INDIA   \n",
       "\n",
       "  FULL_TIME_POSITION PREVAILING_WAGE    YEAR                 WORKSITE  \\\n",
       "0                  N           36067  20£1*6      ANN ARBOR, MICHIGAN   \n",
       "1                  Y          242674  20£1*6             PLANO, TEXAS   \n",
       "2                  Y          193066  20£1*6  JERSEY CITY, NEW JERSEY   \n",
       "3                  Y          220314  20£1*6         DENVER, COLORADO   \n",
       "4                  Y        157518.4  20£1*6      ST. LOUIS, MISSOURI   \n",
       "\n",
       "           lon         lat  \n",
       "0  -83.7430378  42.2808256  \n",
       "1  -96.6988856  33.0198431  \n",
       "2  -74.0776417  40.7281575  \n",
       "3  -104.990251  39.7392358  \n",
       "4  -90.1994042  38.6270025  "
      ]
     },
     "execution_count": 255,
     "metadata": {},
     "output_type": "execute_result"
    }
   ],
   "source": [
    "df.head()"
   ]
  },
  {
   "cell_type": "code",
   "execution_count": 256,
   "metadata": {},
   "outputs": [
    {
     "name": "stdout",
     "output_type": "stream",
     "text": [
      "<class 'pandas.core.frame.DataFrame'>\n",
      "RangeIndex: 3002458 entries, 0 to 3002457\n",
      "Data columns (total 11 columns):\n",
      "Unnamed: 0            object\n",
      "CASE_STATUS           object\n",
      "EMPLOYER_NAME         object\n",
      "SOC_NAME              object\n",
      "JOB_TITLE             object\n",
      "FULL_TIME_POSITION    object\n",
      "PREVAILING_WAGE       object\n",
      "YEAR                  object\n",
      "WORKSITE              object\n",
      "lon                   object\n",
      "lat                   object\n",
      "dtypes: object(11)\n",
      "memory usage: 252.0+ MB\n"
     ]
    }
   ],
   "source": [
    "df.info()"
   ]
  },
  {
   "cell_type": "code",
   "execution_count": 257,
   "metadata": {},
   "outputs": [],
   "source": [
    "cols = ['CASE_ID', 'CASE_STATUS', 'EMPLOYER_NAME', 'SOC_NAME', 'JOB_TITLE',\n",
    "       'FULL_TIME_POSITION', 'PREVAILING_WAGE', 'YEAR', 'WORKSITE', 'lon',\n",
    "       'lat']\n",
    "df.columns = cols"
   ]
  },
  {
   "cell_type": "code",
   "execution_count": 258,
   "metadata": {},
   "outputs": [
    {
     "data": {
      "text/plain": [
       "Index(['CASE_ID', 'CASE_STATUS', 'EMPLOYER_NAME', 'SOC_NAME', 'JOB_TITLE',\n",
       "       'FULL_TIME_POSITION', 'PREVAILING_WAGE', 'YEAR', 'WORKSITE', 'lon',\n",
       "       'lat'],\n",
       "      dtype='object')"
      ]
     },
     "execution_count": 258,
     "metadata": {},
     "output_type": "execute_result"
    }
   ],
   "source": [
    "df.columns"
   ]
  },
  {
   "cell_type": "code",
   "execution_count": 259,
   "metadata": {},
   "outputs": [],
   "source": [
    "#df.set_index('CASE_ID', inplace=True)"
   ]
  },
  {
   "cell_type": "code",
   "execution_count": 260,
   "metadata": {},
   "outputs": [
    {
     "data": {
      "text/plain": [
       "CASE_ID                    0\n",
       "CASE_STATUS               13\n",
       "EMPLOYER_NAME             59\n",
       "SOC_NAME               17734\n",
       "JOB_TITLE                 43\n",
       "FULL_TIME_POSITION        15\n",
       "PREVAILING_WAGE           85\n",
       "YEAR                      13\n",
       "WORKSITE                   0\n",
       "lon                   107242\n",
       "lat                   107242\n",
       "dtype: int64"
      ]
     },
     "execution_count": 260,
     "metadata": {},
     "output_type": "execute_result"
    }
   ],
   "source": [
    "df.isnull().sum()"
   ]
  },
  {
   "cell_type": "code",
   "execution_count": 261,
   "metadata": {},
   "outputs": [
    {
     "name": "stdout",
     "output_type": "stream",
     "text": [
      "CERTIFIED                                             2615623\n",
      "CERTIFIED-WITHDRAWN                                    201708\n",
      "DENIED                                                  94346\n",
      "WITHDRAWN                                               89799\n",
      "CERTIFIED-+--WITHDRAWN                                    951\n",
      "PENDING QUALITY AND COMPLIANCE REVIEW - UNASSIGNED         15\n",
      "REJECTED                                                    2\n",
      "INVALIDATED                                                 1\n",
      "Name: CASE_STATUS, dtype: int64\n",
      "INFOSYS LIMITED                                       130592\n",
      "TATA CONSULTANCY SERVICES LIMITED                      64726\n",
      "WIPRO LIMITED                                          48117\n",
      "DELOITTE CONSULTING LLP                                36742\n",
      "IBM INDIA PRIVATE LIMITED                              34219\n",
      "ACCENTURE LLP                                          33447\n",
      "MICROSOFT CORPORATION                                  25576\n",
      "HCL AMERICA, INC.                                      22678\n",
      "ERNST & YOUNG U.S. LLP                                 18232\n",
      "COGNIZANT TECHNOLOGY SOLUTIONS U.S. CORPORATION        17528\n",
      "LARSEN & TOUBRO INFOTECH LIMITED                       17457\n",
      "CAPGEMINI AMERICA INC                                  16725\n",
      "GOOGLE INC.                                            16473\n",
      "IBM CORPORATION                                        13276\n",
      "IGATE TECHNOLOGIES INC.                                12564\n",
      "INTEL CORPORATION                                      11415\n",
      "TECH MAHINDRA (AMERICAS),INC.                          10732\n",
      "DELOITTE & TOUCHE LLP                                   9642\n",
      "AMAZON CORPORATE LLC                                    9026\n",
      "ORACLE AMERICA, INC.                                    7684\n",
      "APPLE INC.                                              7317\n",
      "JPMORGAN CHASE & CO.                                    7035\n",
      "TECH MAHINDRA (AMERICAS), INC.                          7019\n",
      "UST GLOBAL INC.                                         6363\n",
      "UST GLOBAL INC                                          6355\n",
      "QUALCOMM TECHNOLOGIES, INC.                             6113\n",
      "HEXAWARE TECHNOLOGIES, INC.                             5466\n",
      "FUJITSU AMERICA, INC.                                   5309\n",
      "MASTECH, INC., A MASTECH HOLDINGS, INC. COMPANY         5228\n",
      "MPHASIS CORPORATION                                     5199\n",
      "                                                       ...  \n",
      "WESTWOOD MEDICAL GROUP, INC                                1\n",
      "SD NANDINI INC.                                            1\n",
      "FRENDEL, BROWN & WEISSMAN LLP                              1\n",
      "LELAND STANFORD JUNIOR UNIVERSITY                          1\n",
      "ALPHA VIANA, INC                                           1\n",
      "W DENTAL CARE                                              1\n",
      "MERCER COUNTY HOSPITAL                                     1\n",
      "ROSENBAUM DESIGN GROUP ARCHITECTURE ENGINEERING P.         1\n",
      "STRATUSLIVE                                                1\n",
      "M.E.P. - N.Y. INC.                                         1\n",
      "MARY E. PRADOS, CPA, PA                                    1\n",
      "SCOTT & WHITE HOSPITAL - LLANO                             1\n",
      "MEREDITH VINEYARD ESTATE INC                               1\n",
      "THE MANAGEMENT COMPENSATION GROUP SOUTHEAST, LLC           1\n",
      "VETERNIARY MEDICAL CENTER, PA                              1\n",
      "OVERDRIVE MARKETING, LLC                                   1\n",
      "TRIPLEPOINT, LLC.                                          1\n",
      "TOLEDO INNS INC                                            1\n",
      "LLOYD CRESCENDO ADVISORS LLC                               1\n",
      "FAIRWARNING TECHNOLOGIES INC.                              1\n",
      "MEGA SIGN, INC.                                            1\n",
      "HAMBURG SÃD NORTH AMERICA                                 1\n",
      "STYLITICS, INC.                                            1\n",
      "DREAMNET, INC.                                             1\n",
      "MARINA BIOTECH, INC.                                       1\n",
      "BIOSTRATEGIES LC                                           1\n",
      "SALMAR INC.                                                1\n",
      "VENEER SERVICES, LLC                                       1\n",
      "TB WOODS, INC.                                             1\n",
      "3D HUBS INC.                                               1\n",
      "Name: EMPLOYER_NAME, Length: 236120, dtype: int64\n",
      "Computer Systems Analysts                             291170\n",
      "SOFTWARE DEVELOPERS, APPLICATIONS                     221783\n",
      "COMPUTER SYSTEMS ANALYSTS                             215353\n",
      "Computer Programmers                                  201540\n",
      "Software Developers, Applications                     192933\n",
      "COMPUTER PROGRAMMERS                                  164477\n",
      "COMPUTER OCCUPATIONS, ALL OTHER                       108555\n",
      "Computer Occupations, All Other                        69315\n",
      "Software Developers, Systems Software                  44500\n",
      "SOFTWARE DEVELOPERS, SYSTEMS SOFTWARE                  39356\n",
      "Management Analysts                                    38755\n",
      "Financial Analysts                                     34141\n",
      "Computer Software Engineers, Applications              33325\n",
      "Accountants and Auditors                               30708\n",
      "MANAGEMENT ANALYSTS                                    28117\n",
      "Mechanical Engineers                                   26219\n",
      "Computer Occupations, All Other*                       25628\n",
      "Computer Pr0grammers                                   25034\n",
      "Electronics Engineers, Except Computer                 23323\n",
      "Electrical Engineers                                   22162\n",
      "Market Research Analysts and Marketing Specialists     22158\n",
      "ACCOUNTANTS AND AUDITORS                               22114\n",
      "Physicians and Surgeons, All Other                     22010\n",
      "Database Administrators                                21937\n",
      "NETWORK AND COMPUTER SYSTEMS ADMINISTRATORS            21642\n",
      "FINANCIAL ANALYSTS                                     19399\n",
      "Operations Research Analysts                           19171\n",
      "Network and Computer Systems Administrators            18445\n",
      "MECHANICAL ENGINEERS                                   18017\n",
      "COMPUTER SYSTEMS ANALYST                               17426\n",
      "                                                       ...  \n",
      "MECHANICAL ENGINEERS, R&D (ACWIA ONLY)                     1\n",
      "PEDIATRICIAN                                               1\n",
      "FLIGHT ATTENDANTS                                          1\n",
      "BIOLOGIST (19-1020.01)                                     1\n",
      "COMPUTER SYSTEMS ANALYTS                                   1\n",
      "Camera and Photographic Equipment Repairers                1\n",
      "COMPUTER SYTEMS ANALYST                                    1\n",
      "NETWORK AND COMPUTER SYSTEMS ASMINISTRATORS                1\n",
      "SECURITIES, COMMODITIES, AND FINANCIAL SER                 1\n",
      "Electrical and Electronics Repairers, Powerhouse,          1\n",
      "Medical Transcriptionists                                  1\n",
      "EDUCATIONAL COUNSELORS                                     1\n",
      "ENGINEERS, ALL OTHERS                                      1\n",
      "STONEMASONS                                                1\n",
      "COMPUTER SYSTEMS ANALYSTS, NON R&AMP;D (ACWIA              1\n",
      "PURCHASING AGENTS, EXCEPT WHOLESALE, RETAIL,               1\n",
      "Truck Drivers, Heavy and Tractor-Trailer                   1\n",
      "MARKETING  MANAGERS                                        1\n",
      "Extruding and Drawing Machine Setters, Operators,          1\n",
      "Electrical Power-Line Installers and Repairers             1\n",
      "FAMILY AND GENERAL PRACTICIONERS                           1\n",
      "ELECTRONIC ENGINEERS, EXCEPT COMPUTER, R&D                 1\n",
      "TIMING DEVICE ASSEMBLERS AND ADJUSTERS                     1\n",
      "COMPUTER NETWORK SUPPORTS SPECIALIST                       1\n",
      "PHARMACIST                                                 1\n",
      "MARKETING RESEARCH ANALYSTS AND MARKETING SPECIALI         1\n",
      "ELECTRONICS ENGINEERS EXCEPT COMPUTER                      1\n",
      "SOFTWARE APPLICATION ENGINEER                              1\n",
      "GEOLOGIST                                                  1\n",
      "NETWORK AND COMPUTER SYSTEMS                               1\n",
      "Name: SOC_NAME, Length: 2141, dtype: int64\n",
      "PROGRAMMER ANALYST                                          249038\n",
      "SOFTWARE ENGINEER                                           121307\n",
      "COMPUTER PROGRAMMER                                          70570\n",
      "SYSTEMS ANALYST                                              61965\n",
      "SOFTWARE DEVELOPER                                           42907\n",
      "BUSINESS ANALYST                                             39681\n",
      "COMPUTER SYSTEMS ANALYST                                     35086\n",
      "TECHNOLOGY LEAD - US                                         28350\n",
      "SENIOR SOFTWARE ENGINEER                                     27133\n",
      "TECHNOLOGY ANALYST - US                                      26055\n",
      "ASSISTANT PROFESSOR                                          25265\n",
      "SENIOR CONSULTANT                                            24904\n",
      "CONSULTANT                                                   23081\n",
      "PHYSICAL THERAPIST                                           20207\n",
      "PROJECT MANAGER                                              20172\n",
      "DATABASE ADMINISTRATOR                                       16665\n",
      "ACCOUNTANT                                                   14048\n",
      "COMPUTER PROGRAMMER ANALYST                                  13634\n",
      "RESEARCH ASSOCIATE                                           13623\n",
      "DEVELOPER                                                    12909\n",
      "ASSOCIATE                                                    12502\n",
      "ANALYST                                                      11751\n",
      "LEAD ENGINEER                                                11157\n",
      "COMPUTER SYSTEMS ENGINEER                                    11090\n",
      "SENIOR SOFTWARE DEVELOPER                                    10208\n",
      "BUSINESS SYSTEMS ANALYST                                     10110\n",
      "SYSTEMS ENGINEER - US                                        10036\n",
      "PROGRAMMER/ANALYST                                            9375\n",
      "MARKET RESEARCH ANALYST                                       8934\n",
      "MANAGER                                                       8561\n",
      "                                                             ...  \n",
      "MGMT ENG & INT CONSULTING ASSOCIATE                              1\n",
      "CHIEF LEARNING OFFICER                                           1\n",
      "BUSINESS STRATEGY RISK MANAGER                                   1\n",
      "SR. APPLICATION SUPPORT ENGINEER (DEVELOPER)                     1\n",
      "MANAGER, PLATFORM VISUAL DESIGN                                  1\n",
      "ASSOCIATE DIRECTOR, BRAND LIASON, WESTIN AND LE MERIDIAN         1\n",
      "ASSISTANT GOLF COURSE MANAGER                                    1\n",
      "PROGRAMMER ANALYST (IT SYSTEMS ENGINEER)                         1\n",
      "PROJECT MANAGEMENT COORDINATOR                                   1\n",
      "CORNEA SPECIALIST                                                1\n",
      "ZONAL ISOLATION SEGMENT ENGINEERING TECHNICAL AUTHORITY          1\n",
      "PRPC DEVELOPER                                                   1\n",
      "MANAGER, HELIUM LOGISTICS AND TRAFFIC MANAGEMENT                 1\n",
      "LEAD JAVA DEVELOPER - CLEARING SYSTEMS                           1\n",
      "ONSITE TECHNICAL TRACK LEAD                                      1\n",
      "AD&I SOLUTION MANAGER                                            1\n",
      "ETL ADMIN/ BUSINESS INTELLIGENCE DEVELOPER                       1\n",
      "ASSOCIATE INFORMATION SECURITY ANALYST                           1\n",
      "DATA PERFORMANCE ANALYST                                         1\n",
      "DEPUTY DIRECTOR OF CUSTOMER SERVICE (15-1199.09)                 1\n",
      "CLIENT ONBOARDING ASSOCIATE                                      1\n",
      "VICE PRESIDENT, STRATEGY & BUSINESS DEVELOPMENT                  1\n",
      "FELLOW IN THE DEPT. OF NEUROLOGY, NEUROMUSCULAR ME               1\n",
      "HR PROGRAM SPECIALIST                                            1\n",
      "CHANNEL PLANNING ANALYST                                         1\n",
      "SR. DIRECTOR PRODUCT QUALITY ASSURANCE                           1\n",
      "FABRICATION PROCESS DEVELOPMENT ENGINEER                         1\n",
      "HARDWARE DEV ENG 3                                               1\n",
      "FIRST GRADE ELEMENTARY SCHOOL TEACHER                            1\n",
      "R&D ENGINEERING STAFF                                            1\n",
      "Name: JOB_TITLE, Length: 287770, dtype: int64\n"
     ]
    },
    {
     "name": "stdout",
     "output_type": "stream",
     "text": [
      "Y     2576111\n",
      "N      425920\n",
      "No        412\n",
      "Name: FULL_TIME_POSITION, dtype: int64\n",
      "60000       10354\n",
      "55245        6865\n",
      "62566        6655\n",
      "58053        5755\n",
      "52499        5561\n",
      "51730        5482\n",
      "63877        5477\n",
      "65042        5302\n",
      "55370        5033\n",
      "67808        4697\n",
      "67621        4658\n",
      "60133        4545\n",
      "63086        4468\n",
      "73923        4461\n",
      "66602        4143\n",
      "61797        4114\n",
      "60549        4099\n",
      "58760        4021\n",
      "58906        4019\n",
      "52770        3995\n",
      "73445        3956\n",
      "61589        3952\n",
      "57179        3946\n",
      "69805        3946\n",
      "53914        3936\n",
      "60507        3864\n",
      "50752        3862\n",
      "58885        3843\n",
      "71510        3838\n",
      "63690        3785\n",
      "            ...  \n",
      "197825          1\n",
      "122137.6        1\n",
      "137940          1\n",
      "141821          1\n",
      "84343           1\n",
      "55495           1\n",
      "74237           1\n",
      "36288           1\n",
      "27400           1\n",
      "83538           1\n",
      "124620          1\n",
      "125062          1\n",
      "78065           1\n",
      "57537           1\n",
      "122326          1\n",
      "110004          1\n",
      "42982           1\n",
      "41347           1\n",
      "56496           1\n",
      "150053          1\n",
      "124497          1\n",
      "84030           1\n",
      "96620           1\n",
      "76587           1\n",
      "80005           1\n",
      "4197440         1\n",
      "19074           1\n",
      "61296           1\n",
      "35369.88        1\n",
      "86619           1\n",
      "Name: PREVAILING_WAGE, Length: 56157, dtype: int64\n",
      "20£1*6           647803\n",
      "2015             618727\n",
      "2014             519427\n",
      "2013             442114\n",
      "2012             415607\n",
      "2011             336429\n",
      "Twenty eleven     22338\n",
      "Name: YEAR, dtype: int64\n",
      "NEW YORK, NEW YORK                   191719\n",
      "HOUSTON, TEXAS                        83889\n",
      "SAN FRANCISCO, CALIFORNIA             62787\n",
      "ATLANTA, GEORGIA                      52193\n",
      "CHICAGO, ILLINOIS                     51497\n",
      "SAN JOSE, CALIFORNIA                  50083\n",
      "SUNNYVALE, CALIFORNIA                 35136\n",
      "DALLAS, TEXAS                         31628\n",
      "BOSTON, MASSACHUSETTS                 31471\n",
      "REDMOND, WASHINGTON                   30667\n",
      "CHARLOTTE, NORTH CAROLINA             30269\n",
      "MOUNTAIN VIEW, CALIFORNIA             29479\n",
      "IRVING, TEXAS                         29392\n",
      "SAN DIEGO, CALIFORNIA                 28881\n",
      "SANTA CLARA, CALIFORNIA               28167\n",
      "JERSEY CITY, NEW JERSEY               27022\n",
      "AUSTIN, TEXAS                         26865\n",
      "SEATTLE, WASHINGTON                   26859\n",
      "LOS ANGELES, CALIFORNIA               26517\n",
      "PHILADELPHIA, PENNSYLVANIA            24161\n",
      "PHOENIX, ARIZONA                      21521\n",
      "BELLEVUE, WASHINGTON                  21306\n",
      "PLANO, TEXAS                          20742\n",
      "WASHINGTON, DISTRICT OF COLUMBIA      20369\n",
      "ALPHARETTA, GEORGIA                   18288\n",
      "IRVINE, CALIFORNIA                    17052\n",
      "PALO ALTO, CALIFORNIA                 16686\n",
      "MIAMI, FLORIDA                        16607\n",
      "COLUMBUS, OHIO                        16574\n",
      "TAMPA, FLORIDA                        15562\n",
      "                                      ...  \n",
      "KEYPORT, NEW JERSEY                       1\n",
      "ETNA, PENNSYLVANIA                        1\n",
      "SUMAS, CALIFORNIA                         1\n",
      "PLYMOUTH, CALIFORNIA                      1\n",
      "SUITE 600, TEXAS                          1\n",
      "MEMPHIS, MINNESOTA                        1\n",
      "MOLINE, NEBRASKA                          1\n",
      "OMAHA, OKLAHOMA                           1\n",
      "KASILOF, ALASKA                           1\n",
      "FOX ISLAND, WASHINGTON                    1\n",
      "SUITE 706, FLORIDA                        1\n",
      "WILSON, SOUTH CAROLINA                    1\n",
      "OSKALOOSA, NEBRASKA                       1\n",
      "SAVANN, GEORGIA                           1\n",
      "LAUREL, OHIO                              1\n",
      "MAHWAH, MISSOURI                          1\n",
      "TEMPLE TERRACE, NEW JERSEY                1\n",
      "MUNSTER, ILLINOIS                         1\n",
      "MCCONNELSVILLE, OHIO                      1\n",
      "RANDLETT, UTAH                            1\n",
      "HERMOSA, CALIFORNIA                       1\n",
      "COLLEGEVILLE, ILLINOIS                    1\n",
      "CARLSBAD, NORTH CAROLINA                  1\n",
      "RED CLOUD, NEBRASKA                       1\n",
      "TONAWANDA, PENNSYLVANIA                   1\n",
      "333 108TH AVE. NE, WASHINGTON             1\n",
      "SUPERIOR, NEBRASKA                        1\n",
      "RIVER OAKS, TEXAS                         1\n",
      "2 TECHNOLOGY DRIVE, MASSACHUSETTS         1\n",
      "WEST HURLEY, NEW YORK                     1\n",
      "Name: WORKSITE, Length: 18624, dtype: int64\n",
      "-74.0059413        192513\n",
      "-95.3698028         83576\n",
      "-122.4194155        61970\n",
      "-84.3879824         51907\n",
      "-87.6297982         51111\n",
      "-121.8863286        50132\n",
      "-122.0363496        34950\n",
      "-96.7969879         31482\n",
      "-71.0588801         31313\n",
      "-122.121512         30582\n",
      "-80.8431267         30170\n",
      "-122.0838511        29416\n",
      "-96.9488945         29335\n",
      "-117.1610838        28784\n",
      "-121.9552356        28039\n",
      "-74.0776417         26989\n",
      "-97.7430608         26748\n",
      "-122.3320708        26497\n",
      "-118.2436849        26267\n",
      "-75.1652215         24077\n",
      "-77.0368707         22423\n",
      "-112.0740373        21362\n",
      "-122.2015159        21189\n",
      "-96.6988856         20659\n",
      "-84.2940899         18223\n",
      "-117.7946942        16964\n",
      "-82.9987942         16551\n",
      "-122.1430195        16531\n",
      "-80.1917902         16360\n",
      "-79.9958864         15688\n",
      "                    ...  \n",
      "-+--102.8793222         1\n",
      "-+--82.445154           1\n",
      "-+--76.8966397          1\n",
      "-+--73.2453824          1\n",
      "-+--117.7678355         1\n",
      "-+--72.6655757          1\n",
      "-+--74.0420848          1\n",
      "-+--118.5360517         1\n",
      "-+--84.2338093          1\n",
      "-+--74.7702576          1\n",
      "-+--77.8653126          1\n",
      "-+--88.5426136          1\n",
      "-+--118.3870991         1\n",
      "-+--74.7146817          1\n",
      "-+--74.4015405          1\n",
      "-+--80.4775569          1\n",
      "-+--77.4288769          1\n",
      "-+--73.7801447          1\n",
      "-+--73.8642613          1\n",
      "-+--120.4357191         1\n",
      "-+--74.0665297          1\n",
      "-+--74.5101536          1\n",
      "-+--121.4252227         1\n",
      "-+--87.9183919          1\n",
      "-+--97.9908366          1\n",
      "-+--70.7625532          1\n",
      "-74.90989               1\n",
      "-+--111.8389726         1\n",
      "-+--93.2632821          1\n",
      "-+--88.0072909          1\n",
      "Name: lon, Length: 3643, dtype: int64\n",
      "40.7127837             194360\n",
      "29.7604267              83889\n",
      "37.7749295              62821\n",
      "33.7489954              52194\n",
      "41.8781136              51497\n",
      "37.3382082              50367\n",
      "37.36883                35136\n",
      "32.7766642              31628\n",
      "42.3600825              31471\n",
      "47.6739881              30667\n",
      "35.2270869              30269\n",
      "37.3860517              29600\n",
      "32.8140177              29392\n",
      "32.715738               28881\n",
      "37.3541079              28167\n",
      "40.7281575              27082\n",
      "30.267153               26865\n",
      "47.6062095              26859\n",
      "34.0522342              26517\n",
      "39.9525839              24161\n",
      "38.9071923              22516\n",
      "33.4483771              21521\n",
      "47.6101497              21306\n",
      "33.0198431              20742\n",
      "34.0753762              18288\n",
      "33.6839473              17052\n",
      "37.4418834              16686\n",
      "25.7616798              16607\n",
      "39.9611755              16574\n",
      "40.4406248              15742\n",
      "                        ...  \n",
      "38.5052429                 56\n",
      "33.7205771                 56\n",
      "43.3665007                 56\n",
      "34.5400242                 56\n",
      "25.7050697                 56\n",
      "40.0999077                 55\n",
      "34.1545306                 55\n",
      "39.1404477                 55\n",
      "29.5607383                 55\n",
      "43.2200583                 55\n",
      "33.1384488                 55\n",
      "28.7091433                 55\n",
      "39.0256651                 55\n",
      "46.681153                  55\n",
      "28.5652787                 55\n",
      "46.7162136                 55\n",
      "45.0380201                 55\n",
      "25.9428707                 54\n",
      "34.0739016                 54\n",
      "42.7647763                 54\n",
      "40.9478158                 54\n",
      "36.6987493                 54\n",
      "37.7719074                 54\n",
      "35.1359386                 54\n",
      "41.5425349                 54\n",
      "42.4084302                 54\n",
      "34.227351                  54\n",
      "42.3564609                 54\n",
      "40.4Twenty eleven65         3\n",
      "40.6367682                  1\n",
      "Name: lat, Length: 2408, dtype: int64\n"
     ]
    }
   ],
   "source": [
    "g = ['CASE_STATUS', 'EMPLOYER_NAME', 'SOC_NAME', 'JOB_TITLE',\n",
    "       'FULL_TIME_POSITION', 'PREVAILING_WAGE', 'YEAR', 'WORKSITE', 'lon',\n",
    "       'lat']\n",
    "count = 0\n",
    "while count < len(g):\n",
    "    print(df[g[count]].value_counts())\n",
    "    count +=1"
   ]
  },
  {
   "cell_type": "code",
   "execution_count": 262,
   "metadata": {},
   "outputs": [
    {
     "data": {
      "text/plain": [
       "20£1*6           647803\n",
       "2015             618727\n",
       "2014             519427\n",
       "2013             442114\n",
       "2012             415607\n",
       "2011             336429\n",
       "Twenty eleven     22338\n",
       "Name: YEAR, dtype: int64"
      ]
     },
     "execution_count": 262,
     "metadata": {},
     "output_type": "execute_result"
    }
   ],
   "source": [
    "df['YEAR'].value_counts()"
   ]
  },
  {
   "cell_type": "code",
   "execution_count": 263,
   "metadata": {},
   "outputs": [],
   "source": [
    "df['YEAR'] = np.where(df['YEAR'] == '20£1*6', '2016', df['YEAR'])\n",
    "df['YEAR'] = np.where(df['YEAR'] == 'Twenty eleven', '2011', df['YEAR'])"
   ]
  },
  {
   "cell_type": "code",
   "execution_count": 264,
   "metadata": {},
   "outputs": [
    {
     "data": {
      "text/plain": [
       "2016    647803\n",
       "2015    618727\n",
       "2014    519427\n",
       "2013    442114\n",
       "2012    415607\n",
       "2011    358767\n",
       "Name: YEAR, dtype: int64"
      ]
     },
     "execution_count": 264,
     "metadata": {},
     "output_type": "execute_result"
    }
   ],
   "source": [
    "df['YEAR'].value_counts()"
   ]
  },
  {
   "cell_type": "code",
   "execution_count": 265,
   "metadata": {},
   "outputs": [
    {
     "data": {
      "text/plain": [
       "CASE_ID               object\n",
       "CASE_STATUS           object\n",
       "EMPLOYER_NAME         object\n",
       "SOC_NAME              object\n",
       "JOB_TITLE             object\n",
       "FULL_TIME_POSITION    object\n",
       "PREVAILING_WAGE       object\n",
       "YEAR                  object\n",
       "WORKSITE              object\n",
       "lon                   object\n",
       "lat                   object\n",
       "dtype: object"
      ]
     },
     "execution_count": 265,
     "metadata": {},
     "output_type": "execute_result"
    }
   ],
   "source": [
    "df.dtypes"
   ]
  },
  {
   "cell_type": "code",
   "execution_count": 266,
   "metadata": {},
   "outputs": [
    {
     "data": {
      "text/plain": [
       "CASE_ID                    0\n",
       "CASE_STATUS               13\n",
       "EMPLOYER_NAME             59\n",
       "SOC_NAME               17734\n",
       "JOB_TITLE                 43\n",
       "FULL_TIME_POSITION        15\n",
       "PREVAILING_WAGE           85\n",
       "YEAR                      13\n",
       "WORKSITE                   0\n",
       "lon                   107242\n",
       "lat                   107242\n",
       "dtype: int64"
      ]
     },
     "execution_count": 266,
     "metadata": {},
     "output_type": "execute_result"
    }
   ],
   "source": [
    "df.isnull().sum()"
   ]
  },
  {
   "cell_type": "code",
   "execution_count": 267,
   "metadata": {},
   "outputs": [],
   "source": [
    "#droping the 13 NaN in column \"YEAR\" since NaN values across the rows\n",
    "df.dropna(axis=0,subset=['YEAR'], inplace=True)"
   ]
  },
  {
   "cell_type": "code",
   "execution_count": 268,
   "metadata": {},
   "outputs": [
    {
     "data": {
      "text/plain": [
       "CASE_ID                    0\n",
       "CASE_STATUS                0\n",
       "EMPLOYER_NAME             46\n",
       "SOC_NAME               17721\n",
       "JOB_TITLE                 30\n",
       "FULL_TIME_POSITION         2\n",
       "PREVAILING_WAGE           72\n",
       "YEAR                       0\n",
       "WORKSITE                   0\n",
       "lon                   107242\n",
       "lat                   107242\n",
       "dtype: int64"
      ]
     },
     "execution_count": 268,
     "metadata": {},
     "output_type": "execute_result"
    }
   ],
   "source": [
    "df.isnull().sum()"
   ]
  },
  {
   "cell_type": "code",
   "execution_count": 269,
   "metadata": {},
   "outputs": [],
   "source": [
    "df.drop(columns=['lon','lat'], inplace=True)"
   ]
  },
  {
   "cell_type": "code",
   "execution_count": 270,
   "metadata": {},
   "outputs": [
    {
     "data": {
      "text/plain": [
       "Index(['CASE_ID', 'CASE_STATUS', 'EMPLOYER_NAME', 'SOC_NAME', 'JOB_TITLE',\n",
       "       'FULL_TIME_POSITION', 'PREVAILING_WAGE', 'YEAR', 'WORKSITE'],\n",
       "      dtype='object')"
      ]
     },
     "execution_count": 270,
     "metadata": {},
     "output_type": "execute_result"
    }
   ],
   "source": [
    "df.columns"
   ]
  },
  {
   "cell_type": "code",
   "execution_count": 271,
   "metadata": {},
   "outputs": [
    {
     "data": {
      "text/plain": [
       "CASE_ID               object\n",
       "CASE_STATUS           object\n",
       "EMPLOYER_NAME         object\n",
       "SOC_NAME              object\n",
       "JOB_TITLE             object\n",
       "FULL_TIME_POSITION    object\n",
       "PREVAILING_WAGE       object\n",
       "YEAR                  object\n",
       "WORKSITE              object\n",
       "dtype: object"
      ]
     },
     "execution_count": 271,
     "metadata": {},
     "output_type": "execute_result"
    }
   ],
   "source": [
    "df.dtypes"
   ]
  },
  {
   "cell_type": "markdown",
   "metadata": {},
   "source": [
    "#  Was getting ValueError: could not convert string to float: '20£1*6', locating the value and replacing it"
   ]
  },
  {
   "cell_type": "code",
   "execution_count": 272,
   "metadata": {},
   "outputs": [
    {
     "data": {
      "text/plain": [
       "array(['20£1*6', '120£1*6', '20£1*60', ..., '29820£1*6', '29920£1*6',\n",
       "       '30020£1*6'], dtype=object)"
      ]
     },
     "execution_count": 272,
     "metadata": {},
     "output_type": "execute_result"
    }
   ],
   "source": [
    "#Locati\n",
    "a = df[df['CASE_ID'].str.contains('£1*')]\n",
    "a['CASE_ID'].values\n"
   ]
  },
  {
   "cell_type": "code",
   "execution_count": 273,
   "metadata": {},
   "outputs": [
    {
     "data": {
      "text/plain": [
       "2792010    279Twenty eleven\n",
       "2802010    280Twenty eleven\n",
       "Name: CASE_ID, dtype: object"
      ]
     },
     "execution_count": 273,
     "metadata": {},
     "output_type": "execute_result"
    }
   ],
   "source": [
    "b = df[df['CASE_ID'].str.contains('eleven')]\n",
    "b['CASE_ID']"
   ]
  },
  {
   "cell_type": "code",
   "execution_count": 274,
   "metadata": {},
   "outputs": [
    {
     "data": {
      "text/plain": [
       "numpy.ndarray"
      ]
     },
     "execution_count": 274,
     "metadata": {},
     "output_type": "execute_result"
    }
   ],
   "source": [
    "type(df['CASE_ID'].values)"
   ]
  },
  {
   "cell_type": "code",
   "execution_count": 275,
   "metadata": {},
   "outputs": [
    {
     "data": {
      "text/plain": [
       "CASE_ID                                                       20£1*6\n",
       "CASE_STATUS                                                CERTIFIED\n",
       "EMPLOYER_NAME                NATIONAL GRID USA SERVICE COMPANY, INC.\n",
       "SOC_NAME                             GENERAL AND OPERATIONS MANAGERS\n",
       "JOB_TITLE             HEAD OF SERVICE USER PLATFORM & INFRASTRUCTURE\n",
       "FULL_TIME_POSITION                                                 Y\n",
       "PREVAILING_WAGE                                               147909\n",
       "YEAR                                                            2016\n",
       "WORKSITE                                      WALTHAM, MASSACHUSETTS\n",
       "Name: 2015, dtype: object"
      ]
     },
     "execution_count": 275,
     "metadata": {},
     "output_type": "execute_result"
    }
   ],
   "source": [
    "df.loc[2015,:]"
   ]
  },
  {
   "cell_type": "code",
   "execution_count": 276,
   "metadata": {},
   "outputs": [],
   "source": [
    "def replace_pound(x):\n",
    "    try: \n",
    "        return x.replace('£', '')\n",
    "    except AttributeError:\n",
    "        return np.NaN\n",
    "def replace_star(x):\n",
    "    try: \n",
    "        return x.replace('*', '')\n",
    "    except AttributeError:\n",
    "        return np.NaN\n",
    "def replace_3Twen(x):\n",
    "    try: \n",
    "        return x.replace('3Twenty eleven', '32011')\n",
    "    except AttributeError:\n",
    "        return np.NaN    \n",
    "def replace_AA(x):\n",
    "    try: \n",
    "        return x.replace('Â', '')\n",
    "    except AttributeError:\n",
    "        return np.NaN  \n",
    "\n",
    "df.PREVAILING_WAGE = df.PREVAILING_WAGE.map(replace_pound)\n",
    "df.PREVAILING_WAGE = df.PREVAILING_WAGE.map(replace_star)\n",
    "df.PREVAILING_WAGE = df.PREVAILING_WAGE.map(replace_3Twen)\n",
    "df.JOB_TITLE = df.JOB_TITLE.map(replace_AA)\n"
   ]
  },
  {
   "cell_type": "code",
   "execution_count": 277,
   "metadata": {},
   "outputs": [
    {
     "data": {
      "text/plain": [
       "CASE_ID                                                         2016\n",
       "CASE_STATUS                                                CERTIFIED\n",
       "EMPLOYER_NAME                NATIONAL GRID USA SERVICE COMPANY, INC.\n",
       "SOC_NAME                             GENERAL AND OPERATIONS MANAGERS\n",
       "JOB_TITLE             HEAD OF SERVICE USER PLATFORM & INFRASTRUCTURE\n",
       "FULL_TIME_POSITION                                                 Y\n",
       "PREVAILING_WAGE                                               147909\n",
       "YEAR                                                            2016\n",
       "WORKSITE                                      WALTHAM, MASSACHUSETTS\n",
       "Name: 2015, dtype: object"
      ]
     },
     "execution_count": 277,
     "metadata": {},
     "output_type": "execute_result"
    }
   ],
   "source": [
    "df['CASE_ID'] = [item.replace('£','') for item in df['CASE_ID']]\n",
    "df['CASE_ID'] = [item.replace('*','') for item in df['CASE_ID']]\n",
    "df['CASE_ID'] = [item.replace('279Twenty eleven','2792011') for item in df['CASE_ID']]\n",
    "df['CASE_ID'] = [item.replace('280Twenty eleven','2802011') for item in df['CASE_ID']]\n",
    "\n",
    "df.loc[2015,:]"
   ]
  },
  {
   "cell_type": "code",
   "execution_count": 278,
   "metadata": {},
   "outputs": [],
   "source": [
    "df['CASE_ID'] = df['CASE_ID'].astype(int)"
   ]
  },
  {
   "cell_type": "code",
   "execution_count": 279,
   "metadata": {},
   "outputs": [
    {
     "data": {
      "text/plain": [
       "CASE_ID                int32\n",
       "CASE_STATUS           object\n",
       "EMPLOYER_NAME         object\n",
       "SOC_NAME              object\n",
       "JOB_TITLE             object\n",
       "FULL_TIME_POSITION    object\n",
       "PREVAILING_WAGE       object\n",
       "YEAR                  object\n",
       "WORKSITE              object\n",
       "dtype: object"
      ]
     },
     "execution_count": 279,
     "metadata": {},
     "output_type": "execute_result"
    }
   ],
   "source": [
    "df.dtypes"
   ]
  },
  {
   "cell_type": "code",
   "execution_count": 280,
   "metadata": {},
   "outputs": [],
   "source": [
    "df['YEAR'] = pd.to_datetime(df['YEAR'], format=\"%Y\")"
   ]
  },
  {
   "cell_type": "code",
   "execution_count": 281,
   "metadata": {},
   "outputs": [
    {
     "data": {
      "text/html": [
       "<div>\n",
       "<style scoped>\n",
       "    .dataframe tbody tr th:only-of-type {\n",
       "        vertical-align: middle;\n",
       "    }\n",
       "\n",
       "    .dataframe tbody tr th {\n",
       "        vertical-align: top;\n",
       "    }\n",
       "\n",
       "    .dataframe thead th {\n",
       "        text-align: right;\n",
       "    }\n",
       "</style>\n",
       "<table border=\"1\" class=\"dataframe\">\n",
       "  <thead>\n",
       "    <tr style=\"text-align: right;\">\n",
       "      <th></th>\n",
       "      <th>CASE_ID</th>\n",
       "      <th>CASE_STATUS</th>\n",
       "      <th>EMPLOYER_NAME</th>\n",
       "      <th>SOC_NAME</th>\n",
       "      <th>JOB_TITLE</th>\n",
       "      <th>FULL_TIME_POSITION</th>\n",
       "      <th>PREVAILING_WAGE</th>\n",
       "      <th>YEAR</th>\n",
       "      <th>WORKSITE</th>\n",
       "    </tr>\n",
       "  </thead>\n",
       "  <tbody>\n",
       "    <tr>\n",
       "      <th>0</th>\n",
       "      <td>1</td>\n",
       "      <td>CERTIFIED-WITHDRAWN</td>\n",
       "      <td>UNIVERSITY OF MICHIGAN</td>\n",
       "      <td>BIOCHEMISTS AND BIOPHYSICISTS</td>\n",
       "      <td>POSTDOCTORAL RESEARCH FELLOW</td>\n",
       "      <td>N</td>\n",
       "      <td>36067</td>\n",
       "      <td>2016-01-01</td>\n",
       "      <td>ANN ARBOR, MICHIGAN</td>\n",
       "    </tr>\n",
       "    <tr>\n",
       "      <th>1</th>\n",
       "      <td>2</td>\n",
       "      <td>CERTIFIED-WITHDRAWN</td>\n",
       "      <td>GOODMAN NETWORKS, INC.</td>\n",
       "      <td>CHIEF EXECUTIVES232</td>\n",
       "      <td>CHIEF OPERATING OFFICER</td>\n",
       "      <td>Y</td>\n",
       "      <td>242674</td>\n",
       "      <td>2016-01-01</td>\n",
       "      <td>PLANO, TEXAS</td>\n",
       "    </tr>\n",
       "    <tr>\n",
       "      <th>2</th>\n",
       "      <td>3</td>\n",
       "      <td>CERTIFIED-WITHDRAWN</td>\n",
       "      <td>PORTS AMERICA GROUP, INC.</td>\n",
       "      <td>CHIEF EXECUTIVES232</td>\n",
       "      <td>CHIEF PROCESS OFFICER</td>\n",
       "      <td>Y</td>\n",
       "      <td>193066</td>\n",
       "      <td>2016-01-01</td>\n",
       "      <td>JERSEY CITY, NEW JERSEY</td>\n",
       "    </tr>\n",
       "    <tr>\n",
       "      <th>3</th>\n",
       "      <td>4</td>\n",
       "      <td>CERTIFIED-WITHDRAWN</td>\n",
       "      <td>GATES CORPORATION, A WHOLLY-OWNED SUBSIDIARY O...</td>\n",
       "      <td>CHIEF EXECUTIVES232</td>\n",
       "      <td>REGIONAL PRESIDEN, AMERICAS</td>\n",
       "      <td>Y</td>\n",
       "      <td>220314</td>\n",
       "      <td>2016-01-01</td>\n",
       "      <td>DENVER, COLORADO</td>\n",
       "    </tr>\n",
       "    <tr>\n",
       "      <th>4</th>\n",
       "      <td>5</td>\n",
       "      <td>WITHDRAWN</td>\n",
       "      <td>PEABODY INVESTMENTS CORP.</td>\n",
       "      <td>CHIEF EXECUTIVES232</td>\n",
       "      <td>PRESIDENT MONGOLIA AND INDIA</td>\n",
       "      <td>Y</td>\n",
       "      <td>157518.4</td>\n",
       "      <td>2016-01-01</td>\n",
       "      <td>ST. LOUIS, MISSOURI</td>\n",
       "    </tr>\n",
       "  </tbody>\n",
       "</table>\n",
       "</div>"
      ],
      "text/plain": [
       "   CASE_ID          CASE_STATUS  \\\n",
       "0        1  CERTIFIED-WITHDRAWN   \n",
       "1        2  CERTIFIED-WITHDRAWN   \n",
       "2        3  CERTIFIED-WITHDRAWN   \n",
       "3        4  CERTIFIED-WITHDRAWN   \n",
       "4        5            WITHDRAWN   \n",
       "\n",
       "                                       EMPLOYER_NAME  \\\n",
       "0                             UNIVERSITY OF MICHIGAN   \n",
       "1                             GOODMAN NETWORKS, INC.   \n",
       "2                          PORTS AMERICA GROUP, INC.   \n",
       "3  GATES CORPORATION, A WHOLLY-OWNED SUBSIDIARY O...   \n",
       "4                          PEABODY INVESTMENTS CORP.   \n",
       "\n",
       "                        SOC_NAME                     JOB_TITLE  \\\n",
       "0  BIOCHEMISTS AND BIOPHYSICISTS  POSTDOCTORAL RESEARCH FELLOW   \n",
       "1            CHIEF EXECUTIVES232       CHIEF OPERATING OFFICER   \n",
       "2            CHIEF EXECUTIVES232         CHIEF PROCESS OFFICER   \n",
       "3            CHIEF EXECUTIVES232   REGIONAL PRESIDEN, AMERICAS   \n",
       "4            CHIEF EXECUTIVES232  PRESIDENT MONGOLIA AND INDIA   \n",
       "\n",
       "  FULL_TIME_POSITION PREVAILING_WAGE       YEAR                 WORKSITE  \n",
       "0                  N           36067 2016-01-01      ANN ARBOR, MICHIGAN  \n",
       "1                  Y          242674 2016-01-01             PLANO, TEXAS  \n",
       "2                  Y          193066 2016-01-01  JERSEY CITY, NEW JERSEY  \n",
       "3                  Y          220314 2016-01-01         DENVER, COLORADO  \n",
       "4                  Y        157518.4 2016-01-01      ST. LOUIS, MISSOURI  "
      ]
     },
     "execution_count": 281,
     "metadata": {},
     "output_type": "execute_result"
    }
   ],
   "source": [
    "df.head()"
   ]
  },
  {
   "cell_type": "code",
   "execution_count": 282,
   "metadata": {},
   "outputs": [
    {
     "data": {
      "text/plain": [
       "CASE_ID                   0\n",
       "CASE_STATUS               0\n",
       "EMPLOYER_NAME            46\n",
       "SOC_NAME              17721\n",
       "JOB_TITLE                30\n",
       "FULL_TIME_POSITION        2\n",
       "PREVAILING_WAGE          72\n",
       "YEAR                      0\n",
       "WORKSITE                  0\n",
       "dtype: int64"
      ]
     },
     "execution_count": 282,
     "metadata": {},
     "output_type": "execute_result"
    }
   ],
   "source": [
    "df.isnull().sum()"
   ]
  },
  {
   "cell_type": "code",
   "execution_count": 283,
   "metadata": {},
   "outputs": [
    {
     "data": {
      "text/plain": [
       "array(['CERTIFIED-WITHDRAWN', 'WITHDRAWN', 'CERTIFIED',\n",
       "       'CERTIFIED-+--WITHDRAWN', 'DENIED', 'REJECTED', 'INVALIDATED',\n",
       "       'PENDING QUALITY AND COMPLIANCE REVIEW - UNASSIGNED'], dtype=object)"
      ]
     },
     "execution_count": 283,
     "metadata": {},
     "output_type": "execute_result"
    }
   ],
   "source": [
    "df['CASE_STATUS'].unique()"
   ]
  },
  {
   "cell_type": "code",
   "execution_count": 284,
   "metadata": {},
   "outputs": [],
   "source": [
    "df['JOB_TITLE'] = df['JOB_TITLE'].astype('category')\n",
    "df['SOC_NAME'] = df['SOC_NAME'].astype('category')"
   ]
  },
  {
   "cell_type": "code",
   "execution_count": 285,
   "metadata": {},
   "outputs": [
    {
     "data": {
      "text/html": [
       "<div>\n",
       "<style scoped>\n",
       "    .dataframe tbody tr th:only-of-type {\n",
       "        vertical-align: middle;\n",
       "    }\n",
       "\n",
       "    .dataframe tbody tr th {\n",
       "        vertical-align: top;\n",
       "    }\n",
       "\n",
       "    .dataframe thead th {\n",
       "        text-align: right;\n",
       "    }\n",
       "</style>\n",
       "<table border=\"1\" class=\"dataframe\">\n",
       "  <thead>\n",
       "    <tr style=\"text-align: right;\">\n",
       "      <th></th>\n",
       "      <th>SOC_NAME</th>\n",
       "      <th>JOB_TITLE</th>\n",
       "    </tr>\n",
       "  </thead>\n",
       "  <tbody>\n",
       "    <tr>\n",
       "      <th>0</th>\n",
       "      <td>BIOCHEMISTS AND BIOPHYSICISTS</td>\n",
       "      <td>POSTDOCTORAL RESEARCH FELLOW</td>\n",
       "    </tr>\n",
       "    <tr>\n",
       "      <th>1</th>\n",
       "      <td>CHIEF EXECUTIVES232</td>\n",
       "      <td>CHIEF OPERATING OFFICER</td>\n",
       "    </tr>\n",
       "    <tr>\n",
       "      <th>2</th>\n",
       "      <td>CHIEF EXECUTIVES232</td>\n",
       "      <td>CHIEF PROCESS OFFICER</td>\n",
       "    </tr>\n",
       "    <tr>\n",
       "      <th>3</th>\n",
       "      <td>CHIEF EXECUTIVES232</td>\n",
       "      <td>REGIONAL PRESIDEN, AMERICAS</td>\n",
       "    </tr>\n",
       "    <tr>\n",
       "      <th>4</th>\n",
       "      <td>CHIEF EXECUTIVES232</td>\n",
       "      <td>PRESIDENT MONGOLIA AND INDIA</td>\n",
       "    </tr>\n",
       "  </tbody>\n",
       "</table>\n",
       "</div>"
      ],
      "text/plain": [
       "                        SOC_NAME                     JOB_TITLE\n",
       "0  BIOCHEMISTS AND BIOPHYSICISTS  POSTDOCTORAL RESEARCH FELLOW\n",
       "1            CHIEF EXECUTIVES232       CHIEF OPERATING OFFICER\n",
       "2            CHIEF EXECUTIVES232         CHIEF PROCESS OFFICER\n",
       "3            CHIEF EXECUTIVES232   REGIONAL PRESIDEN, AMERICAS\n",
       "4            CHIEF EXECUTIVES232  PRESIDENT MONGOLIA AND INDIA"
      ]
     },
     "execution_count": 285,
     "metadata": {},
     "output_type": "execute_result"
    }
   ],
   "source": [
    "df.loc[:,'SOC_NAME':'JOB_TITLE'].head()\n"
   ]
  },
  {
   "cell_type": "code",
   "execution_count": 286,
   "metadata": {},
   "outputs": [],
   "source": [
    "df['SOC_NAME'] = np.where(df['SOC_NAME'].str.contains('DEVELOPERS'),\n",
    "                          'SOFTWARE DEVELOPERS, APPLICATIONS',df['SOC_NAME'])\n",
    "df['SOC_NAME'] = np.where(df['SOC_NAME'].str.contains('Software'),\n",
    "                          'SOFTWARE DEVELOPERS, APPLICATIONS',df['SOC_NAME'])\n",
    "df['SOC_NAME'] = np.where(df['SOC_NAME'].str.contains('COMPUTER'),\n",
    "                          'COMPUTER OCCUPATIONS, ALL OTHER',df['SOC_NAME'])\n",
    "df['SOC_NAME'] = np.where(df['SOC_NAME'].str.contains('Computer'),\n",
    "                          'COMPUTER OCCUPATIONS, ALL OTHER',df['SOC_NAME'])\n",
    "df['SOC_NAME'] = np.where(df['SOC_NAME'].str.contains('Engineer'),\n",
    "                          'ENGINEERS',df['SOC_NAME'])\n",
    "df['SOC_NAME'] = np.where(df['SOC_NAME'].str.contains('ENGINEER'),\n",
    "                          'ENGINEERS',df['SOC_NAME'])\n",
    "df['SOC_NAME'] = np.where(df['SOC_NAME'].str.contains('PROGRAMMER'),\n",
    "                          'COMPUTER OCCUPATIONS, ALL OTHER',df['SOC_NAME'])"
   ]
  },
  {
   "cell_type": "code",
   "execution_count": 287,
   "metadata": {},
   "outputs": [],
   "source": [
    "df['SOC_NAME'] = np.where(df['SOC_NAME'].str.contains('Management'),\n",
    "                          'MANAGEMENT ANALYSTS',df['SOC_NAME'])\n",
    "df['SOC_NAME'] = np.where(df['SOC_NAME'].str.contains('Financial'),\n",
    "                          'FINANCIAL ANALYSTS',df['SOC_NAME'])\n",
    "df['SOC_NAME'] = np.where(df['SOC_NAME'].str.contains('FINANCIAL'),\n",
    "                          'FINANCIAL ANALYSTS',df['SOC_NAME'])\n",
    "df['SOC_NAME'] = np.where(df['SOC_NAME'].str.contains('Accountants'),\n",
    "                          'ACCOUNTANTS AND AUDITORS',df['SOC_NAME'])\n",
    "df['SOC_NAME'] = np.where(df['SOC_NAME'].str.contains('Database'),\n",
    "                          'DATABASE ADMINISTRATORS',df['SOC_NAME'])"
   ]
  },
  {
   "cell_type": "code",
   "execution_count": 288,
   "metadata": {},
   "outputs": [
    {
     "data": {
      "text/plain": [
       "COMPUTER OCCUPATIONS, ALL OTHER                       4.268368e-01\n",
       "SOFTWARE DEVELOPERS, APPLICATIONS                     1.936289e-01\n",
       "ENGINEERS                                             6.454939e-02\n",
       "FINANCIAL ANALYSTS                                    2.482777e-02\n",
       "MANAGEMENT ANALYSTS                                   2.233913e-02\n",
       "ACCOUNTANTS AND AUDITORS                              1.886729e-02\n",
       "DATABASE ADMINISTRATORS                               1.298342e-02\n",
       "Market Research Analysts and Marketing Specialists    7.379985e-03\n",
       "Physicians and Surgeons, All Other                    7.330692e-03\n",
       "Operations Research Analysts                          6.385129e-03\n",
       "Medical Scientists, Except Epidemiologists            5.596439e-03\n",
       "MARKET RESEARCH ANALYSTS AND MARKETING SPECIALISTS    5.188771e-03\n",
       "OPERATIONS RESEARCH ANALYSTS                          5.025571e-03\n",
       "Physical Therapists                                   4.903004e-03\n",
       "Biochemists and Biophysicists                         4.762452e-03\n",
       "PHYSICIANS AND SURGEONS, ALL OTHER                    3.835541e-03\n",
       "Marketing Managers                                    3.541780e-03\n",
       "Biological Scientists, All Other                      3.298978e-03\n",
       "MEDICAL SCIENTISTS, EXCEPT EPIDEMIOLOGISTS            3.116127e-03\n",
       "Internists, General                                   3.072163e-03\n",
       "Statisticians                                         3.058840e-03\n",
       "Chemists                                              2.870327e-03\n",
       "Graphic Designers                                     2.676818e-03\n",
       "STATISTICIANS                                         2.636851e-03\n",
       "General and Operations Managers                       2.450003e-03\n",
       "PHYSICAL THERAPISTS                                   2.422359e-03\n",
       "Pharmacists                                           2.361076e-03\n",
       "BIOCHEMISTS AND BIOPHYSICISTS                         2.313448e-03\n",
       "Elementary School Teachers, Except Special Educati    2.195544e-03\n",
       "BIOLOGICAL SCIENTISTS, ALL OTHER                      2.152246e-03\n",
       "                                                          ...     \n",
       "CABINETMAKERS AND BENCH CARPENTERS                    3.330619e-07\n",
       "LIFE SCIENTISTS                                       3.330619e-07\n",
       "Food Batchmakers                                      3.330619e-07\n",
       "LOGISTICS MANAGER                                     3.330619e-07\n",
       "DISHWASHERS                                           3.330619e-07\n",
       "SOFTWWARE DEVELOPER, APLICATIONS                      3.330619e-07\n",
       "GROUNDS MAINTENANCE WORKERS, ALL OTHER                3.330619e-07\n",
       "PATHOLOGISTS                                          3.330619e-07\n",
       "New Accounts Clerks                                   3.330619e-07\n",
       "GENERAL AND OPERATIONS MANAGERSE                      3.330619e-07\n",
       "NETWORK SYSTEMS AND DATA COMMUNICATIONS ANALYSTS      3.330619e-07\n",
       "Range Managers                                        3.330619e-07\n",
       "HEARING AID SPECIALISTS                               3.330619e-07\n",
       "TIMING DEVICE ASSEMBLERS AND ADJUSTERS                3.330619e-07\n",
       "LOAN INTERVIEWERS AND CLERKS                          3.330619e-07\n",
       "FOOD PREPARATION WORKERS                              3.330619e-07\n",
       "SOFTWARE DVELOPERS, APPLICATIONS                      3.330619e-07\n",
       "DIRECTORS- STAGE, MOTION PICTURES, TELEVISION, AND    3.330619e-07\n",
       "BUSINESS OPERATIONS SPECIALIST, ALL OTHERS            3.330619e-07\n",
       "BIOCHEMISTS                                           3.330619e-07\n",
       "MEDICAL SCIENTISTS EXCEPT EPIDIMIOLOGISTS             3.330619e-07\n",
       "Electronic Home Entertainment Equipment Installers    3.330619e-07\n",
       "FOOD AND TOBACCO ROASTING, BAKING, AND DRYING         3.330619e-07\n",
       "COMMUNICATIONS STUDIES TEACHERS, POSTSECONDARY        3.330619e-07\n",
       "Mobile Heavy Equipment Mechanics, Except Engines      3.330619e-07\n",
       "Aircraft Structure, Surfaces, Rigging, and Systems    3.330619e-07\n",
       "MEDICAL AND HEALTH SERVICES MANAGER                   3.330619e-07\n",
       "MUSICIANS, INSTRUMENTAL                               3.330619e-07\n",
       "PHYSICIAN & SURGEONS, ALL OTHER                       3.330619e-07\n",
       "Respiratory Therapy Technicians                       3.330619e-07\n",
       "Name: SOC_NAME, Length: 1663, dtype: float64"
      ]
     },
     "execution_count": 288,
     "metadata": {},
     "output_type": "execute_result"
    }
   ],
   "source": [
    "df['SOC_NAME'].value_counts(normalize=True)"
   ]
  },
  {
   "cell_type": "code",
   "execution_count": 289,
   "metadata": {},
   "outputs": [
    {
     "data": {
      "text/plain": [
       "1663"
      ]
     },
     "execution_count": 289,
     "metadata": {},
     "output_type": "execute_result"
    }
   ],
   "source": [
    "df['SOC_NAME'].unique().size"
   ]
  },
  {
   "cell_type": "code",
   "execution_count": 290,
   "metadata": {},
   "outputs": [
    {
     "data": {
      "text/plain": [
       "CASE_ID                0\n",
       "CASE_STATUS            0\n",
       "EMPLOYER_NAME         46\n",
       "SOC_NAME               0\n",
       "JOB_TITLE             30\n",
       "FULL_TIME_POSITION     2\n",
       "PREVAILING_WAGE       72\n",
       "YEAR                   0\n",
       "WORKSITE               0\n",
       "dtype: int64"
      ]
     },
     "execution_count": 290,
     "metadata": {},
     "output_type": "execute_result"
    }
   ],
   "source": [
    "df.isnull().sum()"
   ]
  },
  {
   "cell_type": "code",
   "execution_count": 291,
   "metadata": {},
   "outputs": [
    {
     "data": {
      "text/html": [
       "<div>\n",
       "<style scoped>\n",
       "    .dataframe tbody tr th:only-of-type {\n",
       "        vertical-align: middle;\n",
       "    }\n",
       "\n",
       "    .dataframe tbody tr th {\n",
       "        vertical-align: top;\n",
       "    }\n",
       "\n",
       "    .dataframe thead th {\n",
       "        text-align: right;\n",
       "    }\n",
       "</style>\n",
       "<table border=\"1\" class=\"dataframe\">\n",
       "  <thead>\n",
       "    <tr style=\"text-align: right;\">\n",
       "      <th></th>\n",
       "      <th>CASE_ID</th>\n",
       "      <th>CASE_STATUS</th>\n",
       "      <th>EMPLOYER_NAME</th>\n",
       "      <th>SOC_NAME</th>\n",
       "      <th>JOB_TITLE</th>\n",
       "      <th>FULL_TIME_POSITION</th>\n",
       "      <th>PREVAILING_WAGE</th>\n",
       "      <th>YEAR</th>\n",
       "      <th>WORKSITE</th>\n",
       "    </tr>\n",
       "  </thead>\n",
       "  <tbody>\n",
       "    <tr>\n",
       "      <th>0</th>\n",
       "      <td>1</td>\n",
       "      <td>CERTIFIED-WITHDRAWN</td>\n",
       "      <td>UNIVERSITY OF MICHIGAN</td>\n",
       "      <td>BIOCHEMISTS AND BIOPHYSICISTS</td>\n",
       "      <td>POSTDOCTORAL RESEARCH FELLOW</td>\n",
       "      <td>N</td>\n",
       "      <td>36067</td>\n",
       "      <td>2016-01-01</td>\n",
       "      <td>ANN ARBOR, MICHIGAN</td>\n",
       "    </tr>\n",
       "    <tr>\n",
       "      <th>1</th>\n",
       "      <td>2</td>\n",
       "      <td>CERTIFIED-WITHDRAWN</td>\n",
       "      <td>GOODMAN NETWORKS, INC.</td>\n",
       "      <td>CHIEF EXECUTIVES232</td>\n",
       "      <td>CHIEF OPERATING OFFICER</td>\n",
       "      <td>Y</td>\n",
       "      <td>242674</td>\n",
       "      <td>2016-01-01</td>\n",
       "      <td>PLANO, TEXAS</td>\n",
       "    </tr>\n",
       "    <tr>\n",
       "      <th>2</th>\n",
       "      <td>3</td>\n",
       "      <td>CERTIFIED-WITHDRAWN</td>\n",
       "      <td>PORTS AMERICA GROUP, INC.</td>\n",
       "      <td>CHIEF EXECUTIVES232</td>\n",
       "      <td>CHIEF PROCESS OFFICER</td>\n",
       "      <td>Y</td>\n",
       "      <td>193066</td>\n",
       "      <td>2016-01-01</td>\n",
       "      <td>JERSEY CITY, NEW JERSEY</td>\n",
       "    </tr>\n",
       "    <tr>\n",
       "      <th>3</th>\n",
       "      <td>4</td>\n",
       "      <td>CERTIFIED-WITHDRAWN</td>\n",
       "      <td>GATES CORPORATION, A WHOLLY-OWNED SUBSIDIARY O...</td>\n",
       "      <td>CHIEF EXECUTIVES232</td>\n",
       "      <td>REGIONAL PRESIDEN, AMERICAS</td>\n",
       "      <td>Y</td>\n",
       "      <td>220314</td>\n",
       "      <td>2016-01-01</td>\n",
       "      <td>DENVER, COLORADO</td>\n",
       "    </tr>\n",
       "    <tr>\n",
       "      <th>4</th>\n",
       "      <td>5</td>\n",
       "      <td>WITHDRAWN</td>\n",
       "      <td>PEABODY INVESTMENTS CORP.</td>\n",
       "      <td>CHIEF EXECUTIVES232</td>\n",
       "      <td>PRESIDENT MONGOLIA AND INDIA</td>\n",
       "      <td>Y</td>\n",
       "      <td>157518.4</td>\n",
       "      <td>2016-01-01</td>\n",
       "      <td>ST. LOUIS, MISSOURI</td>\n",
       "    </tr>\n",
       "  </tbody>\n",
       "</table>\n",
       "</div>"
      ],
      "text/plain": [
       "   CASE_ID          CASE_STATUS  \\\n",
       "0        1  CERTIFIED-WITHDRAWN   \n",
       "1        2  CERTIFIED-WITHDRAWN   \n",
       "2        3  CERTIFIED-WITHDRAWN   \n",
       "3        4  CERTIFIED-WITHDRAWN   \n",
       "4        5            WITHDRAWN   \n",
       "\n",
       "                                       EMPLOYER_NAME  \\\n",
       "0                             UNIVERSITY OF MICHIGAN   \n",
       "1                             GOODMAN NETWORKS, INC.   \n",
       "2                          PORTS AMERICA GROUP, INC.   \n",
       "3  GATES CORPORATION, A WHOLLY-OWNED SUBSIDIARY O...   \n",
       "4                          PEABODY INVESTMENTS CORP.   \n",
       "\n",
       "                        SOC_NAME                     JOB_TITLE  \\\n",
       "0  BIOCHEMISTS AND BIOPHYSICISTS  POSTDOCTORAL RESEARCH FELLOW   \n",
       "1            CHIEF EXECUTIVES232       CHIEF OPERATING OFFICER   \n",
       "2            CHIEF EXECUTIVES232         CHIEF PROCESS OFFICER   \n",
       "3            CHIEF EXECUTIVES232   REGIONAL PRESIDEN, AMERICAS   \n",
       "4            CHIEF EXECUTIVES232  PRESIDENT MONGOLIA AND INDIA   \n",
       "\n",
       "  FULL_TIME_POSITION PREVAILING_WAGE       YEAR                 WORKSITE  \n",
       "0                  N           36067 2016-01-01      ANN ARBOR, MICHIGAN  \n",
       "1                  Y          242674 2016-01-01             PLANO, TEXAS  \n",
       "2                  Y          193066 2016-01-01  JERSEY CITY, NEW JERSEY  \n",
       "3                  Y          220314 2016-01-01         DENVER, COLORADO  \n",
       "4                  Y        157518.4 2016-01-01      ST. LOUIS, MISSOURI  "
      ]
     },
     "execution_count": 291,
     "metadata": {},
     "output_type": "execute_result"
    }
   ],
   "source": [
    "df.head()"
   ]
  },
  {
   "cell_type": "code",
   "execution_count": 292,
   "metadata": {},
   "outputs": [
    {
     "data": {
      "text/html": [
       "<div>\n",
       "<style scoped>\n",
       "    .dataframe tbody tr th:only-of-type {\n",
       "        vertical-align: middle;\n",
       "    }\n",
       "\n",
       "    .dataframe tbody tr th {\n",
       "        vertical-align: top;\n",
       "    }\n",
       "\n",
       "    .dataframe thead th {\n",
       "        text-align: right;\n",
       "    }\n",
       "</style>\n",
       "<table border=\"1\" class=\"dataframe\">\n",
       "  <thead>\n",
       "    <tr style=\"text-align: right;\">\n",
       "      <th></th>\n",
       "      <th>CASE_ID</th>\n",
       "      <th>CASE_STATUS</th>\n",
       "      <th>EMPLOYER_NAME</th>\n",
       "      <th>SOC_NAME</th>\n",
       "      <th>JOB_TITLE</th>\n",
       "      <th>FULL_TIME_POSITION</th>\n",
       "      <th>PREVAILING_WAGE</th>\n",
       "      <th>YEAR</th>\n",
       "      <th>WORKSITE</th>\n",
       "    </tr>\n",
       "  </thead>\n",
       "  <tbody>\n",
       "    <tr>\n",
       "      <th>19796</th>\n",
       "      <td>19797</td>\n",
       "      <td>WITHDRAWN</td>\n",
       "      <td>NaN</td>\n",
       "      <td>ENGINEERS</td>\n",
       "      <td>ENGINEERING MANAGER</td>\n",
       "      <td>Y</td>\n",
       "      <td>110594</td>\n",
       "      <td>2016-01-01</td>\n",
       "      <td>DEERFIELD BEACH, FLORIDA</td>\n",
       "    </tr>\n",
       "    <tr>\n",
       "      <th>74903</th>\n",
       "      <td>74904</td>\n",
       "      <td>DENIED</td>\n",
       "      <td>NaN</td>\n",
       "      <td>FINANCIAL ANALYSTS</td>\n",
       "      <td>BUSINESS FINANCIAL ANALYST</td>\n",
       "      <td>N</td>\n",
       "      <td>63066</td>\n",
       "      <td>2016-01-01</td>\n",
       "      <td>TAMPA, FLORIDA</td>\n",
       "    </tr>\n",
       "    <tr>\n",
       "      <th>103770</th>\n",
       "      <td>103771</td>\n",
       "      <td>DENIED</td>\n",
       "      <td>NaN</td>\n",
       "      <td>COMPUTER OCCUPATIONS, ALL OTHER</td>\n",
       "      <td>BUSINESS ANALYST</td>\n",
       "      <td>N</td>\n",
       "      <td>55390.4</td>\n",
       "      <td>2016-01-01</td>\n",
       "      <td>FAIRFAX, VIRGINIA</td>\n",
       "    </tr>\n",
       "    <tr>\n",
       "      <th>185701</th>\n",
       "      <td>185702</td>\n",
       "      <td>DENIED</td>\n",
       "      <td>NaN</td>\n",
       "      <td>COMPUTER OCCUPATIONS, ALL OTHER</td>\n",
       "      <td>COMPUTER SYSTEMS ANALYST</td>\n",
       "      <td>N</td>\n",
       "      <td>64813</td>\n",
       "      <td>2016-01-01</td>\n",
       "      <td>EDISON, NEW JERSEY</td>\n",
       "    </tr>\n",
       "    <tr>\n",
       "      <th>187387</th>\n",
       "      <td>187388</td>\n",
       "      <td>CERTIFIED</td>\n",
       "      <td>NaN</td>\n",
       "      <td>COMPUTER OCCUPATIONS, ALL OTHER</td>\n",
       "      <td>COMPUTER SYSTEMS ANALYST</td>\n",
       "      <td>N</td>\n",
       "      <td>64813</td>\n",
       "      <td>2016-01-01</td>\n",
       "      <td>EDISON, NEW JERSEY</td>\n",
       "    </tr>\n",
       "  </tbody>\n",
       "</table>\n",
       "</div>"
      ],
      "text/plain": [
       "        CASE_ID CASE_STATUS EMPLOYER_NAME                         SOC_NAME  \\\n",
       "19796     19797   WITHDRAWN           NaN                        ENGINEERS   \n",
       "74903     74904      DENIED           NaN               FINANCIAL ANALYSTS   \n",
       "103770   103771      DENIED           NaN  COMPUTER OCCUPATIONS, ALL OTHER   \n",
       "185701   185702      DENIED           NaN  COMPUTER OCCUPATIONS, ALL OTHER   \n",
       "187387   187388   CERTIFIED           NaN  COMPUTER OCCUPATIONS, ALL OTHER   \n",
       "\n",
       "                         JOB_TITLE FULL_TIME_POSITION PREVAILING_WAGE  \\\n",
       "19796          ENGINEERING MANAGER                  Y          110594   \n",
       "74903   BUSINESS FINANCIAL ANALYST                  N           63066   \n",
       "103770            BUSINESS ANALYST                  N         55390.4   \n",
       "185701    COMPUTER SYSTEMS ANALYST                  N           64813   \n",
       "187387    COMPUTER SYSTEMS ANALYST                  N           64813   \n",
       "\n",
       "             YEAR                  WORKSITE  \n",
       "19796  2016-01-01  DEERFIELD BEACH, FLORIDA  \n",
       "74903  2016-01-01            TAMPA, FLORIDA  \n",
       "103770 2016-01-01         FAIRFAX, VIRGINIA  \n",
       "185701 2016-01-01        EDISON, NEW JERSEY  \n",
       "187387 2016-01-01        EDISON, NEW JERSEY  "
      ]
     },
     "execution_count": 292,
     "metadata": {},
     "output_type": "execute_result"
    }
   ],
   "source": [
    "df[df['EMPLOYER_NAME'].isnull()].head()"
   ]
  },
  {
   "cell_type": "code",
   "execution_count": 293,
   "metadata": {},
   "outputs": [
    {
     "data": {
      "text/plain": [
       "PROGRAMMER ANALYST                                      0.108108\n",
       "SOFTWARE ENGINEER                                       0.081081\n",
       "COMPUTER SYSTEMS ANALYST                                0.054054\n",
       "IT PROJECT MANAGER                                      0.027027\n",
       "BUSINESS ANALYST                                        0.027027\n",
       "SENIOR PROGRAMMER ANALYST                               0.027027\n",
       "QA ANALYST                                              0.027027\n",
       "COMPUTER PROGRAMMERS                                    0.027027\n",
       "PROJECT MANAGER                                         0.027027\n",
       "TEST MANAGER                                            0.027027\n",
       "ENGINEERING MANAGER                                     0.027027\n",
       "VICE PRESIDENT OF ENGINEERING                           0.027027\n",
       "HEALTH AND SAFETY SPECIALIST II                         0.027027\n",
       "MANAGER                                                 0.027027\n",
       "SENIOR SOFTWARE QA ENGINEER                             0.027027\n",
       "SENIOR CONSULTANT                                       0.027027\n",
       "ENGINEER II                                             0.027027\n",
       "FAMILY MEDICINE PHYSICIAN                               0.027027\n",
       "BUSINESS FINANCIAL ANALYST                              0.027027\n",
       "VICE PRESIDENT, SENIOR PRINCIPAL DEVELOPMENT MANAGER    0.027027\n",
       "PROJECT ENGINEER                                        0.027027\n",
       "PROGRAMMERS                                             0.027027\n",
       "CAPTAIN (FLIGHT PILOT)                                  0.027027\n",
       "CHIEF OPERATING OFFICER                                 0.027027\n",
       "RESEARCH INTERN                                         0.027027\n",
       "PRINCIPAL SCIENTIST                                     0.027027\n",
       "MANAGEMENT ANALYST                                      0.027027\n",
       "SOFTWARE DEVELOPER APPLICATIONS                         0.027027\n",
       "ORACLE DATABASE ADMINISTRATOR                           0.027027\n",
       "SYSTEMS ADMINISTRATOR                                   0.027027\n",
       "                                                          ...   \n",
       "RESEARCH SPECIALIST, DIRECTOR                           0.000000\n",
       "RESEARCH SPECIALIST, HEALTH SCIENCE                     0.000000\n",
       "RESEARCH SPECIALIST, LABORATORY                         0.000000\n",
       "RESEARCH SPECIALIST, LEAD                               0.000000\n",
       "RESEARCH SPECIALIST, POLYMER SCIENCE                    0.000000\n",
       "RESEARCH SPECIALIST I                                   0.000000\n",
       "RESEARCH SPECIALIST, SENIOR                             0.000000\n",
       "RESEARCH SPECIALIST, SR                                 0.000000\n",
       "RESEARCH SPECIALIST, SR.                                0.000000\n",
       "RESEARCH SPECIALIST, VACCINE DISCOVERY                  0.000000\n",
       "RESEARCH SPECIALIST, VIETNAM                            0.000000\n",
       "RESEARCH SPECIALIST- COMPUTATION                        0.000000\n",
       "RESEARCH SPECIALIST SR                                  0.000000\n",
       "RESEARCH SPECIALIST SENIOR                              0.000000\n",
       "RESEARCH SPECIALIST PRINCIPLE                           0.000000\n",
       "RESEARCH SPECIALIST LEAD                                0.000000\n",
       "RESEARCH SPECIALIST IV                                  0.000000\n",
       "RESEARCH SPECIALIST INTERMEDIATE                        0.000000\n",
       "RESEARCH SPECIALIST IN PLANT TISSUE CULTURE             0.000000\n",
       "RESEARCH SPECIALIST IN PHARMACEUTICAL SCIENCES          0.000000\n",
       "RESEARCH SPECIALIST IN LIFE SCIENCES                    0.000000\n",
       "RESEARCH SPECIALIST IN HEALTH SCIENCES                  0.000000\n",
       "RESEARCH SPECIALIST IN HEALTH SCIENCE                   0.000000\n",
       "RESEARCH SPECIALIST IN CHEMISTRY                        0.000000\n",
       "RESEARCH SPECIALIST IN CEREAL CHEMISTRY                 0.000000\n",
       "RESEARCH SPECIALIST IN AGROECOLOGY                      0.000000\n",
       "RESEARCH SPECIALIST III/SENIOR RESEARCH SPECIALIST      0.000000\n",
       "RESEARCH SPECIALIST III                                 0.000000\n",
       "RESEARCH SPECIALIST II                                  0.000000\n",
       "\"BUSINESS SYSTEM ANALYST                                0.000000\n",
       "Name: JOB_TITLE, Length: 287770, dtype: float64"
      ]
     },
     "execution_count": 293,
     "metadata": {},
     "output_type": "execute_result"
    }
   ],
   "source": [
    "df[df['EMPLOYER_NAME'].isnull()]['JOB_TITLE'].value_counts(normalize=True)#.sum()"
   ]
  },
  {
   "cell_type": "code",
   "execution_count": 294,
   "metadata": {},
   "outputs": [
    {
     "data": {
      "text/plain": [
       "WIPRO LIMITED                            0.031666\n",
       "SYNTEL CONSULTING INC.                   0.009368\n",
       "V-SOFT CONSULTING GROUP, INC             0.009155\n",
       "RELIABLE SOFTWARE RESOURCES, INC.        0.007778\n",
       "HCL GLOBAL SYSTEMS INC                   0.007039\n",
       "3I INFOTECH, INC.                        0.006063\n",
       "HTC GLOBAL SERVICES INC.                 0.005851\n",
       "YASH TECHNOLOGIES, INC.                  0.005377\n",
       "SYNTEL INC                               0.005160\n",
       "SUNERA TECHNOLOGIES, INC                 0.004268\n",
       "PEOPLE TECH GROUP INC.                   0.004224\n",
       "HCL AMERICA, INC.                        0.004068\n",
       "DIASPARK, INC.                           0.003891\n",
       "AKVARR INC                               0.003437\n",
       "TATA CONSULTANCY SERVICES LIMITED        0.003389\n",
       "ASTIR IT SOLUTIONS INC.                  0.003333\n",
       "DGN TECHNOLOGIES INC                     0.003269\n",
       "VERINON TECHNOLOGY SOLUTIONS LTD.        0.003265\n",
       "KFORCE INC.                              0.002996\n",
       "PALVAI GLOBAL SERVICES INC               0.002980\n",
       "SYSFORE TECHNOLOGIES, INC.               0.002855\n",
       "RELIANCE GLOBAL SERVICES INC.            0.002835\n",
       "SPLENDTEK INC                            0.002823\n",
       "IPOLARITY LLC                            0.002823\n",
       "RAMP TECHNOLOGY GROUP LLC                0.002779\n",
       "EVEREST CONSULTING GROUP, INC.,          0.002743\n",
       "SAPVIX INC                               0.002666\n",
       "ZYLOG SYSTEMS LTD.                       0.002642\n",
       "ERP AND ERP CORP                         0.002582\n",
       "POLARIS SOFTWARE LAB (INDIA) LTD.        0.002550\n",
       "                                           ...   \n",
       "BEST COMPUTER SYSTEMS, INC.              0.000004\n",
       "NORTHCROSS GROUP                         0.000004\n",
       "WINSPIRE SYNERGIES LLC                   0.000004\n",
       "ADVANSOFT INTERNATIONAL, INC             0.000004\n",
       "MERGENT, INC.                            0.000004\n",
       "JCMS, INC.                               0.000004\n",
       "IMAGEWORK TECHNOLOGIES CORPORATION       0.000004\n",
       "VELA INSURANCE SERVICES, LLC             0.000004\n",
       "IPOLARITY                                0.000004\n",
       "SURECOM                                  0.000004\n",
       "GGK TECHNOLOGIES, INC                    0.000004\n",
       "HIRAL  TECHNOLOGIES, INC.                0.000004\n",
       "ADVANCED METAL SOLUTIONS, INC.           0.000004\n",
       "CYNERGY TECHNOLOGY, INC.                 0.000004\n",
       "CENTRAPRISE CORP                         0.000004\n",
       "PAVANE SOLUTIONS INC                     0.000004\n",
       "VIGNESH TECHNOLOGICAL SOLUTIONS, INC.    0.000004\n",
       "TPR CONSULTING                           0.000004\n",
       "ACWIRON GLOBAL SOLUTIONS LLC             0.000004\n",
       "CROWDNETIC CORPORATION                   0.000004\n",
       "TANZANITE TECHNOLOGIES, INC.             0.000004\n",
       "XRAY XPRESS ADVANCED DIAGNOSTICS         0.000004\n",
       "TEKNITI, LLC                             0.000004\n",
       "THE BSST SOFTWARE GROUP INC              0.000004\n",
       "DAZZLON COMPUTER SERVICES, INC.          0.000004\n",
       "SOHUM INC                                0.000004\n",
       "TECHNOLOGY SCIENCES INC                  0.000004\n",
       "CAMBRIA COMPANY, LLC                     0.000004\n",
       "GLOBAL SOFTWARE CONSULTANTS, INC.        0.000004\n",
       "BROY GROUP, INC                          0.000004\n",
       "Name: EMPLOYER_NAME, Length: 9473, dtype: float64"
      ]
     },
     "execution_count": 294,
     "metadata": {},
     "output_type": "execute_result"
    }
   ],
   "source": [
    "df[df['JOB_TITLE'] == 'PROGRAMMER ANALYST']['EMPLOYER_NAME'].value_counts(normalize=True)"
   ]
  },
  {
   "cell_type": "code",
   "execution_count": 295,
   "metadata": {},
   "outputs": [
    {
     "data": {
      "text/plain": [
       "GOOGLE INC.                                  0.091778\n",
       "MICROSOFT CORPORATION                        0.029562\n",
       "INTEL CORPORATION                            0.018977\n",
       "FACEBOOK, INC.                               0.017559\n",
       "CERNER CORPORATION                           0.016718\n",
       "CAPGEMINI AMERICA INC                        0.008755\n",
       "YASH & LUJAN CONSULTING, INC.                0.008153\n",
       "HITACHI CONSULTING CORPORATION               0.008112\n",
       "QUALCOMM TECHNOLOGIES, INC.                  0.006644\n",
       "ITECH US, INC.                               0.006199\n",
       "ALINDUS, INC.                                0.006100\n",
       "LOGISTIC SOLUTIONS, INC.                     0.005589\n",
       "BIRLASOFT INC                                0.005424\n",
       "LINKEDIN CORPORATION                         0.004996\n",
       "IBM CORPORATION                              0.004732\n",
       "ORACLE AMERICA, INC.                         0.004666\n",
       "QUALCOMM INCORPORATED                        0.004649\n",
       "MOTOROLA MOBILITY LLC                        0.004303\n",
       "CISCO SYSTEMS, INC.                          0.004254\n",
       "FRONTIER TECHNOLOGIES, LLC                   0.004089\n",
       "TWITTER, INC.                                0.004081\n",
       "OPENLOGIX CORPORATION                        0.003479\n",
       "VISION IT SERVICES USA INC                   0.003429\n",
       "MOTOROLA SOLUTIONS, INC.                     0.003363\n",
       "FACTSET RESEARCH SYSTEMS, INC.               0.003289\n",
       "MIRACLE SOFTWARE SYSYTEMS INC                0.003281\n",
       "GOOGLE, INC.                                 0.003199\n",
       "SYMANTEC CORPORATION                         0.003190\n",
       "IBM INDIA PRIVATE LIMITED                    0.003083\n",
       "VISIONET SYSTEMS, INC.                       0.003067\n",
       "                                               ...   \n",
       "ITHOS USA INC                                0.000008\n",
       "LEXIM, INC.                                  0.000008\n",
       "HENNY PENNY CORPORATION                      0.000008\n",
       "INTHEAIRNET, LLC                             0.000008\n",
       "ONERA, INC.                                  0.000008\n",
       "PERSONIFY INCORPORATED                       0.000008\n",
       "ZENTEK CORPORATION                           0.000008\n",
       "JOHN TODD RESEARCH AND DESIGN                0.000008\n",
       "ITT EDUCATIONAL SERVICES, INC.               0.000008\n",
       "TIETRONIX SOFTWARE INC                       0.000008\n",
       "BIZIBLE, INC.                                0.000008\n",
       "IT KEYSOURCE,INC.                            0.000008\n",
       "ROCHE MOLECULAR SYSTEMS, INC.                0.000008\n",
       "VSQUARE IT INC.                              0.000008\n",
       "JAVA-DIVE TECHNOLOGIES                       0.000008\n",
       "HITACHI CONSULTING SOFTWARE SERVICES INC.    0.000008\n",
       "AVANT SYTEMS, INC.                           0.000008\n",
       "LONG TAIL AD SOLUTIONS INC                   0.000008\n",
       "FANKAVE, INC.                                0.000008\n",
       "COVETIT, INC                                 0.000008\n",
       "FUSION BOX INC                               0.000008\n",
       "MOBIMEDS, INC.                               0.000008\n",
       "GEOSEARCH, LLC                               0.000008\n",
       "BRAINOFT INC.                                0.000008\n",
       "APPSENSE INC.                                0.000008\n",
       "RESMED INC.                                  0.000008\n",
       "REMOTE COMPUTING SYSTEMS, INC                0.000008\n",
       "ADVANCEDEMEDIA, INC.                         0.000008\n",
       "AEHR TEST SYSTEMS                            0.000008\n",
       "KOMPRISE, INC.                               0.000008\n",
       "Name: EMPLOYER_NAME, Length: 13118, dtype: float64"
      ]
     },
     "execution_count": 295,
     "metadata": {},
     "output_type": "execute_result"
    }
   ],
   "source": [
    "df[df['JOB_TITLE'] == 'SOFTWARE ENGINEER']['EMPLOYER_NAME'].value_counts(normalize=True)"
   ]
  },
  {
   "cell_type": "code",
   "execution_count": 296,
   "metadata": {},
   "outputs": [
    {
     "data": {
      "text/plain": [
       "CASE_ID                        int32\n",
       "CASE_STATUS                   object\n",
       "EMPLOYER_NAME                 object\n",
       "SOC_NAME                      object\n",
       "JOB_TITLE                   category\n",
       "FULL_TIME_POSITION            object\n",
       "PREVAILING_WAGE               object\n",
       "YEAR                  datetime64[ns]\n",
       "WORKSITE                      object\n",
       "dtype: object"
      ]
     },
     "execution_count": 296,
     "metadata": {},
     "output_type": "execute_result"
    }
   ],
   "source": [
    "df.dtypes"
   ]
  },
  {
   "cell_type": "code",
   "execution_count": 297,
   "metadata": {},
   "outputs": [],
   "source": [
    "df['JOB_TITLE'] = df['JOB_TITLE'].astype('category')\n",
    "df['EMPLOYER_NAME'] = df['EMPLOYER_NAME'].astype('category')"
   ]
  },
  {
   "cell_type": "code",
   "execution_count": 298,
   "metadata": {},
   "outputs": [
    {
     "data": {
      "text/plain": [
       "[POSTDOCTORAL RESEARCH FELLOW, CHIEF OPERATING OFFICER, CHIEF PROCESS OFFICER, REGIONAL PRESIDEN, AMERICAS, PRESIDENT MONGOLIA AND INDIA, ..., SOFTWARE ENGINEER (SOFTWARE DEVELOPER 2), MATERIALS SCIENTIST, MARKET RESEARCH ANALYST, DESIGN ENGINEER, DESIGN ENGINEER]\n",
       "Length: 3002445\n",
       "Categories (287770, object): [\"BUSINESS SYSTEM ANALYST, \"SALES MANAGER, \"TEST\" SENIOR SCIENTIST, \"TRAIN THE TRAINER\" PROGRAM SUPERVISOR, ..., SYSTEMS ANALYST, TEAM LEAD - US, TECHNOLOGY ARCHITECT - US, TEST ANALYST - US]"
      ]
     },
     "execution_count": 298,
     "metadata": {},
     "output_type": "execute_result"
    }
   ],
   "source": [
    " df['JOB_TITLE'].values"
   ]
  },
  {
   "cell_type": "code",
   "execution_count": 299,
   "metadata": {},
   "outputs": [],
   "source": [
    "df.set_index('CASE_ID', inplace=True)"
   ]
  },
  {
   "cell_type": "code",
   "execution_count": 300,
   "metadata": {},
   "outputs": [
    {
     "data": {
      "text/plain": [
       "(249038, 8)"
      ]
     },
     "execution_count": 300,
     "metadata": {},
     "output_type": "execute_result"
    }
   ],
   "source": [
    "a = df[df['JOB_TITLE'] == 'PROGRAMMER ANALYST']\n",
    "a.shape"
   ]
  },
  {
   "cell_type": "code",
   "execution_count": 301,
   "metadata": {},
   "outputs": [
    {
     "data": {
      "text/plain": [
       "(46, 8)"
      ]
     },
     "execution_count": 301,
     "metadata": {},
     "output_type": "execute_result"
    }
   ],
   "source": [
    "b = df[df['EMPLOYER_NAME'].isnull()]\n",
    "b.shape"
   ]
  },
  {
   "cell_type": "code",
   "execution_count": 302,
   "metadata": {},
   "outputs": [
    {
     "data": {
      "text/plain": [
       "0    WIPRO LIMITED\n",
       "Name: EMPLOYER_NAME, dtype: category\n",
       "Categories (236120, object): [\"EXCELLENT COMPUTING DISTRIBUTORS INC\", \"I HAVE A DREAM\" FOUNDATION, \"K\" LINE AMERICA, \"K\" LINE AMERICA, INC., ..., ÃZE BULLES DRINKS LLC, ÃTUDES LLC, ÃTUDES, LLC, ÃNIMAI, INC.]"
      ]
     },
     "execution_count": 302,
     "metadata": {},
     "output_type": "execute_result"
    }
   ],
   "source": [
    "d = df[df['JOB_TITLE'] == 'PROGRAMMER ANALYST']['EMPLOYER_NAME'].mode()\n",
    "d"
   ]
  },
  {
   "cell_type": "code",
   "execution_count": 303,
   "metadata": {},
   "outputs": [
    {
     "data": {
      "text/html": [
       "<div>\n",
       "<style scoped>\n",
       "    .dataframe tbody tr th:only-of-type {\n",
       "        vertical-align: middle;\n",
       "    }\n",
       "\n",
       "    .dataframe tbody tr th {\n",
       "        vertical-align: top;\n",
       "    }\n",
       "\n",
       "    .dataframe thead th {\n",
       "        text-align: right;\n",
       "    }\n",
       "</style>\n",
       "<table border=\"1\" class=\"dataframe\">\n",
       "  <thead>\n",
       "    <tr style=\"text-align: right;\">\n",
       "      <th></th>\n",
       "      <th>CASE_STATUS</th>\n",
       "      <th>EMPLOYER_NAME</th>\n",
       "      <th>SOC_NAME</th>\n",
       "      <th>JOB_TITLE</th>\n",
       "      <th>FULL_TIME_POSITION</th>\n",
       "      <th>PREVAILING_WAGE</th>\n",
       "      <th>YEAR</th>\n",
       "      <th>WORKSITE</th>\n",
       "    </tr>\n",
       "  </thead>\n",
       "  <tbody>\n",
       "    <tr>\n",
       "      <th>count</th>\n",
       "      <td>3002445</td>\n",
       "      <td>3002399</td>\n",
       "      <td>3002445</td>\n",
       "      <td>3002415</td>\n",
       "      <td>3002443</td>\n",
       "      <td>3002373</td>\n",
       "      <td>3002445</td>\n",
       "      <td>3002445</td>\n",
       "    </tr>\n",
       "    <tr>\n",
       "      <th>unique</th>\n",
       "      <td>8</td>\n",
       "      <td>236120</td>\n",
       "      <td>1663</td>\n",
       "      <td>287770</td>\n",
       "      <td>3</td>\n",
       "      <td>56156</td>\n",
       "      <td>6</td>\n",
       "      <td>18611</td>\n",
       "    </tr>\n",
       "    <tr>\n",
       "      <th>top</th>\n",
       "      <td>CERTIFIED</td>\n",
       "      <td>INFOSYS LIMITED</td>\n",
       "      <td>COMPUTER OCCUPATIONS, ALL OTHER</td>\n",
       "      <td>PROGRAMMER ANALYST</td>\n",
       "      <td>Y</td>\n",
       "      <td>60000</td>\n",
       "      <td>2016-01-01 00:00:00</td>\n",
       "      <td>NEW YORK, NEW YORK</td>\n",
       "    </tr>\n",
       "    <tr>\n",
       "      <th>freq</th>\n",
       "      <td>2615623</td>\n",
       "      <td>130592</td>\n",
       "      <td>1281554</td>\n",
       "      <td>249038</td>\n",
       "      <td>2576111</td>\n",
       "      <td>10354</td>\n",
       "      <td>647803</td>\n",
       "      <td>191719</td>\n",
       "    </tr>\n",
       "    <tr>\n",
       "      <th>first</th>\n",
       "      <td>NaN</td>\n",
       "      <td>NaN</td>\n",
       "      <td>NaN</td>\n",
       "      <td>NaN</td>\n",
       "      <td>NaN</td>\n",
       "      <td>NaN</td>\n",
       "      <td>2011-01-01 00:00:00</td>\n",
       "      <td>NaN</td>\n",
       "    </tr>\n",
       "    <tr>\n",
       "      <th>last</th>\n",
       "      <td>NaN</td>\n",
       "      <td>NaN</td>\n",
       "      <td>NaN</td>\n",
       "      <td>NaN</td>\n",
       "      <td>NaN</td>\n",
       "      <td>NaN</td>\n",
       "      <td>2016-01-01 00:00:00</td>\n",
       "      <td>NaN</td>\n",
       "    </tr>\n",
       "  </tbody>\n",
       "</table>\n",
       "</div>"
      ],
      "text/plain": [
       "       CASE_STATUS    EMPLOYER_NAME                         SOC_NAME  \\\n",
       "count      3002445          3002399                          3002445   \n",
       "unique           8           236120                             1663   \n",
       "top      CERTIFIED  INFOSYS LIMITED  COMPUTER OCCUPATIONS, ALL OTHER   \n",
       "freq       2615623           130592                          1281554   \n",
       "first          NaN              NaN                              NaN   \n",
       "last           NaN              NaN                              NaN   \n",
       "\n",
       "                 JOB_TITLE FULL_TIME_POSITION PREVAILING_WAGE  \\\n",
       "count              3002415            3002443         3002373   \n",
       "unique              287770                  3           56156   \n",
       "top     PROGRAMMER ANALYST                  Y           60000   \n",
       "freq                249038            2576111           10354   \n",
       "first                  NaN                NaN             NaN   \n",
       "last                   NaN                NaN             NaN   \n",
       "\n",
       "                       YEAR            WORKSITE  \n",
       "count               3002445             3002445  \n",
       "unique                    6               18611  \n",
       "top     2016-01-01 00:00:00  NEW YORK, NEW YORK  \n",
       "freq                 647803              191719  \n",
       "first   2011-01-01 00:00:00                 NaN  \n",
       "last    2016-01-01 00:00:00                 NaN  "
      ]
     },
     "execution_count": 303,
     "metadata": {},
     "output_type": "execute_result"
    }
   ],
   "source": [
    "df.describe(include='all')"
   ]
  },
  {
   "cell_type": "code",
   "execution_count": 304,
   "metadata": {},
   "outputs": [],
   "source": [
    "df['EMPLOYER_NAME'].fillna('WIPRO LIMITED',inplace=True)"
   ]
  },
  {
   "cell_type": "code",
   "execution_count": 305,
   "metadata": {},
   "outputs": [
    {
     "data": {
      "text/plain": [
       "CASE_STATUS            0\n",
       "EMPLOYER_NAME          0\n",
       "SOC_NAME               0\n",
       "JOB_TITLE             30\n",
       "FULL_TIME_POSITION     2\n",
       "PREVAILING_WAGE       72\n",
       "YEAR                   0\n",
       "WORKSITE               0\n",
       "dtype: int64"
      ]
     },
     "execution_count": 305,
     "metadata": {},
     "output_type": "execute_result"
    }
   ],
   "source": [
    "df.isnull().sum()"
   ]
  },
  {
   "cell_type": "code",
   "execution_count": 306,
   "metadata": {},
   "outputs": [
    {
     "data": {
      "text/plain": [
       "CASE_STATUS                   object\n",
       "EMPLOYER_NAME               category\n",
       "SOC_NAME                      object\n",
       "JOB_TITLE                   category\n",
       "FULL_TIME_POSITION            object\n",
       "PREVAILING_WAGE               object\n",
       "YEAR                  datetime64[ns]\n",
       "WORKSITE                      object\n",
       "dtype: object"
      ]
     },
     "execution_count": 306,
     "metadata": {},
     "output_type": "execute_result"
    }
   ],
   "source": [
    "df.dtypes"
   ]
  },
  {
   "cell_type": "code",
   "execution_count": 307,
   "metadata": {},
   "outputs": [
    {
     "data": {
      "text/plain": [
       "CASE_STATUS            0\n",
       "EMPLOYER_NAME          0\n",
       "SOC_NAME               0\n",
       "JOB_TITLE             30\n",
       "FULL_TIME_POSITION     2\n",
       "PREVAILING_WAGE       72\n",
       "YEAR                   0\n",
       "WORKSITE               0\n",
       "dtype: int64"
      ]
     },
     "execution_count": 307,
     "metadata": {},
     "output_type": "execute_result"
    }
   ],
   "source": [
    "df.isnull().sum()"
   ]
  },
  {
   "cell_type": "code",
   "execution_count": 308,
   "metadata": {},
   "outputs": [
    {
     "data": {
      "text/plain": [
       "Y     2576111\n",
       "N      425920\n",
       "No        412\n",
       "Name: FULL_TIME_POSITION, dtype: int64"
      ]
     },
     "execution_count": 308,
     "metadata": {},
     "output_type": "execute_result"
    }
   ],
   "source": [
    "df['FULL_TIME_POSITION'].value_counts()"
   ]
  },
  {
   "cell_type": "code",
   "execution_count": 309,
   "metadata": {},
   "outputs": [],
   "source": [
    "df['FULL_TIME_POSITION'] = np.where(df['FULL_TIME_POSITION'].str.contains('N'), 'N', df['FULL_TIME_POSITION'])"
   ]
  },
  {
   "cell_type": "code",
   "execution_count": 310,
   "metadata": {},
   "outputs": [
    {
     "data": {
      "text/plain": [
       "CASE_STATUS            0\n",
       "EMPLOYER_NAME          0\n",
       "SOC_NAME               0\n",
       "JOB_TITLE             30\n",
       "FULL_TIME_POSITION     0\n",
       "PREVAILING_WAGE       72\n",
       "YEAR                   0\n",
       "WORKSITE               0\n",
       "dtype: int64"
      ]
     },
     "execution_count": 310,
     "metadata": {},
     "output_type": "execute_result"
    }
   ],
   "source": [
    "df.isnull().sum()"
   ]
  },
  {
   "cell_type": "code",
   "execution_count": 311,
   "metadata": {},
   "outputs": [
    {
     "data": {
      "text/plain": [
       "PROGRAMMER ANALYST                                              249038\n",
       "SOFTWARE ENGINEER                                               121307\n",
       "COMPUTER PROGRAMMER                                              70570\n",
       "SYSTEMS ANALYST                                                  61965\n",
       "SOFTWARE DEVELOPER                                               42907\n",
       "BUSINESS ANALYST                                                 39681\n",
       "COMPUTER SYSTEMS ANALYST                                         35086\n",
       "TECHNOLOGY LEAD - US                                             28350\n",
       "SENIOR SOFTWARE ENGINEER                                         27133\n",
       "TECHNOLOGY ANALYST - US                                          26055\n",
       "ASSISTANT PROFESSOR                                              25265\n",
       "SENIOR CONSULTANT                                                24904\n",
       "CONSULTANT                                                       23081\n",
       "PHYSICAL THERAPIST                                               20207\n",
       "PROJECT MANAGER                                                  20172\n",
       "DATABASE ADMINISTRATOR                                           16665\n",
       "ACCOUNTANT                                                       14048\n",
       "COMPUTER PROGRAMMER ANALYST                                      13634\n",
       "RESEARCH ASSOCIATE                                               13623\n",
       "DEVELOPER                                                        12909\n",
       "ASSOCIATE                                                        12502\n",
       "ANALYST                                                          11751\n",
       "LEAD ENGINEER                                                    11157\n",
       "COMPUTER SYSTEMS ENGINEER                                        11090\n",
       "SENIOR SOFTWARE DEVELOPER                                        10208\n",
       "BUSINESS SYSTEMS ANALYST                                         10110\n",
       "SYSTEMS ENGINEER - US                                            10036\n",
       "PROGRAMMER/ANALYST                                                9375\n",
       "MARKET RESEARCH ANALYST                                           8934\n",
       "MANAGER                                                           8561\n",
       "                                                                 ...  \n",
       "PRINCIPAL RESEARCHER-COMPUTING SRVCS, PREDICTIVE ANALYTICS           1\n",
       "PRINCIPAL RESEARCHER, SPEECH AND FUSION NUI TECHNO                   1\n",
       "PRINCIPAL RESEARCH STATISTICIAN                                      1\n",
       "PRINCIPAL RESEARCH SCIENTIST (ACOUSTIC MODELING)                     1\n",
       "PRINCIPAL SALES SUPPORT MANAGER                                      1\n",
       "PRINCIPAL SALESFORCE DEVELOPER                                       1\n",
       "PRINCIPAL SALESFORCE SOLUTIONS ARCHITECT                             1\n",
       "PRINCIPAL SAP ABAP DEVELOPER                                         1\n",
       "PRINCIPAL SCIENTIST - IN-VITRO IMMUNOBIOLOGY                         1\n",
       "PRINCIPAL SCIENTIST - DATA MINING                                    1\n",
       "PRINCIPAL SCIENTIST - BIOLOGY DISCOVERY                              1\n",
       "PRINCIPAL SCIENTIST (MATERIALS SCIENTIST)                            1\n",
       "PRINCIPAL SCIENTIST (A COMPUTER AND INFORMATION RE                   1\n",
       "PRINCIPAL SCIENTIFIC SOFTWARE ENGINEER                               1\n",
       "PRINCIPAL SCIENTIFIC ENGINEERING ASSOCIATE (ENERGY ENGINEER)         1\n",
       "PRINCIPAL SCIENTIFIC ENGINEER ASSOCIATE                              1\n",
       "PRINCIPAL SCHEDULING ENGINEER                                        1\n",
       "PRINCIPAL SAS STATISTICAL PROGAMMER                                  1\n",
       "PRINCIPAL SAP/TM DEVELOPMENT ARCHITECT/CONSULTANT                    1\n",
       "PRINCIPAL SAP TM CONSULTANT                                          1\n",
       "PRINCIPAL SAP SECURITY ANALYST                                       1\n",
       "PRINCIPAL SAP SCM TECHNOLOGY CONSULTANT                              1\n",
       "PRINCIPAL SAP HRM SPECIALIST                                         1\n",
       "PRINCIPAL SAP HR/PAYROLL DEVELOPER                                   1\n",
       "PRINCIPAL SAP FUNCTIONAL LEAD                                        1\n",
       "PRINCIPAL SAP EMPLOYEE CENTRAL ARCHITECT                             1\n",
       "PRINCIPAL SAP CRM BUSINESS SYSTEMS ANALYST                           1\n",
       "PRINCIPAL SAP CONSULANT                                              1\n",
       "PRINCIPAL SAP BASIS ADMINISTRATOR                                    1\n",
       "\"BUSINESS SYSTEM ANALYST                                             1\n",
       "Name: JOB_TITLE, Length: 287770, dtype: int64"
      ]
     },
     "execution_count": 311,
     "metadata": {},
     "output_type": "execute_result"
    }
   ],
   "source": [
    "df['JOB_TITLE'].value_counts()"
   ]
  },
  {
   "cell_type": "code",
   "execution_count": 312,
   "metadata": {},
   "outputs": [
    {
     "data": {
      "text/plain": [
       "SOFTWARE ENGINEER                                               113360\n",
       "SOFTWARE DEVELOPER                                               38875\n",
       "SENIOR SOFTWARE ENGINEER                                         24655\n",
       "PROGRAMMER ANALYST                                               19955\n",
       "SENIOR CONSULTANT                                                10957\n",
       "SENIOR SOFTWARE DEVELOPER                                         8434\n",
       "SOFTWARE DEVELOPMENT ENGINEER                                     7074\n",
       "CONSULTANT                                                        6185\n",
       "JAVA DEVELOPER                                                    5256\n",
       "DEVELOPER USER INTERFACE                                          5245\n",
       "SR. SOFTWARE ENGINEER                                             4520\n",
       "COMPUTER SOFTWARE ENGINEER, APPLICATIONS                          4418\n",
       "SOFTWARE ENGINEER 2                                               4127\n",
       "SOFTWARE DEVELOPMENT ENGINEER IN TEST                             4073\n",
       "APPLICATION DEVELOPER                                             3592\n",
       "SOFTWARE DEVELOPMENT ENGINEER II                                  3254\n",
       "WEB DEVELOPER                                                     3069\n",
       "STAFF SOFTWARE ENGINEER                                           2671\n",
       "COMPUTER SOFTWARE ENGINEER                                        2495\n",
       "DEVELOPER                                                         2384\n",
       "SENIOR DEVELOPER                                                  2368\n",
       "MANAGER                                                           2332\n",
       "APPLICATIONS DEVELOPER                                            2316\n",
       "PRINCIPAL SOFTWARE ENGINEER                                       2169\n",
       ".NET DEVELOPER                                                    2147\n",
       "SOFTWARE DEVELOPMENT ENGINEER I                                   2106\n",
       "SOFTWARE ENGINEER II                                              1905\n",
       "SOFTWARE ENGINEER 3                                               1861\n",
       "SOFTWARE DEVELOPER, APPLICATIONS                                  1816\n",
       "SYSTEMS ENGINEER                                                  1712\n",
       "                                                                 ...  \n",
       "PROGRAM RESEARCH ASSISTANT                                           0\n",
       "PROGRAM RESEARCH ASSOCIATE                                           0\n",
       "PROGRAM SENIOR GROUP MANAGER                                         0\n",
       "PROGRAM SPECIALIST, RESEARCH & EVALUATION                            0\n",
       "PROGRAM SPECIALIST IV                                                0\n",
       "PROGRAM SPECIALIST II/INSTRUCTIONAL DESIGNER & DEV                   0\n",
       "PROGRAM SPECIALIST II                                                0\n",
       "PROGRAM SPECIALIST 1                                                 0\n",
       "PROGRAM SPECIALIST - AUTOMOTIVE PRODUCTS                             0\n",
       "PROGRAM SPECIALIST (HEALTH EDUCATOR)                                 0\n",
       "PROGRAM SPECIALIST (EDUCATION OUTREACH COORDINATOR)                  0\n",
       "PROGRAM SOLUTIONS ANALYST                                            0\n",
       "PROGRAM SOFTWARE RELEASE MANAGER                                     0\n",
       "PROGRAM SERVICES REPRESENTATIVE                                      0\n",
       "PROGRAM SENIOR LEAD                                                  0\n",
       "PROGRAM SENIOR ANALYST                                               0\n",
       "PROGRAM RESEARCH ASSOCIATE (GLOBAL BUSINESS AND ECONOMICS)           0\n",
       "PROGRAM SCHEDULER                                                    0\n",
       "PROGRAM SAVINGS LEADER                                               0\n",
       "PROGRAM RESEARCH SPECIALIST III                                      0\n",
       "PROGRAM RESEARCH SPECIALIST II (CRIMINAL JUSTICE)                    0\n",
       "PROGRAM RESEARCH SPECIALIST II                                       0\n",
       "PROGRAM RESEARCH SPECIALIST I                                        0\n",
       "PROGRAM RESEARCH SPECIALIST 3                                        0\n",
       "PROGRAM RESEARCH SPECIALIST 2                                        0\n",
       "PROGRAM RESEARCH SPECIALIST                                          0\n",
       "PROGRAM RESEARCH DIRECTOR                                            0\n",
       "PROGRAM RESEARCH COORDINATOR                                         0\n",
       "PROGRAM RESEARCH ASSOCIATE, ADRIENNE ARSHT LATIN AMERICA CTR         0\n",
       "\"BUSINESS SYSTEM ANALYST                                             0\n",
       "Name: JOB_TITLE, Length: 287770, dtype: int64"
      ]
     },
     "execution_count": 312,
     "metadata": {},
     "output_type": "execute_result"
    }
   ],
   "source": [
    "df[df['SOC_NAME'] == 'SOFTWARE DEVELOPERS, APPLICATIONS' ]['JOB_TITLE'].value_counts()"
   ]
  },
  {
   "cell_type": "code",
   "execution_count": 313,
   "metadata": {},
   "outputs": [
    {
     "data": {
      "text/plain": [
       "MICROSOFT CORPORATION                                 17240\n",
       "DELOITTE CONSULTING LLP                               16457\n",
       "GOOGLE INC.                                           12666\n",
       "CAPGEMINI AMERICA INC                                  9028\n",
       "TATA CONSULTANCY SERVICES LIMITED                      7960\n",
       "IBM CORPORATION                                        5459\n",
       "AMAZON CORPORATE LLC                                   5004\n",
       "ORACLE AMERICA, INC.                                   4485\n",
       "FUJITSU AMERICA, INC.                                  4255\n",
       "MASTECH, INC., A MASTECH HOLDINGS, INC. COMPANY        4009\n",
       "LARSEN & TOUBRO INFOTECH LIMITED                       3571\n",
       "INTEL CORPORATION                                      3330\n",
       "QUALCOMM TECHNOLOGIES, INC.                            2896\n",
       "APPLE INC.                                             2758\n",
       "JPMORGAN CHASE & CO.                                   2738\n",
       "HCL GLOBAL SYSTEMS INC                                 2735\n",
       "FACEBOOK, INC.                                         2612\n",
       "EBAY INC.                                              2542\n",
       "EMC CORPORATION                                        2438\n",
       "YAHOO! INC.                                            2354\n",
       "CERNER CORPORATION                                     2240\n",
       "RANDSTAD TECHNOLOGIES, LP                              2209\n",
       "WIPRO LIMITED                                          2066\n",
       "PAYPAL, INC.                                           1967\n",
       "QUALCOMM INCORPORATED                                  1899\n",
       "VMWARE, INC.                                           1862\n",
       "BANK OF AMERICA N.A.                                   1742\n",
       "NTT DATA, INC.                                         1603\n",
       "SALESFORCE.COM, INC.                                   1580\n",
       "SYNECHRON, INC.                                        1573\n",
       "                                                      ...  \n",
       "NORTHSTAR LIC MANGEMENT, LLC                              0\n",
       "NORTHSTAR HOLISTIC COLLECTIVE A NON-PROFIT CORPORA        0\n",
       "NORTHSTAR HEALTH SYSTEM                                   0\n",
       "NORTHSTAR TECHNOLOGY CORPORATION                          0\n",
       "NORTHSTAR VETS                                            0\n",
       "NORTHWEST BUFFALO COMMUNITY HEALTH CARE CENTER            0\n",
       "NORTHWEST ARKANSAS FENCING FOUNDATION INC                 0\n",
       "NORTHWEST BENTON COUNTY PHYSICIANS SERVICES, LLC          0\n",
       "NORTHWEST BENTON COUNTY PHYSICIAN SERVICES, LLC           0\n",
       "NORTHWEST BENTON COUNTY PHYSICIAN SERVICE, LLC            0\n",
       "NORTHWEST BAPTIST CHURCH,INC.                             0\n",
       "NORTHWEST BAPTIST CHURCH, INC.                            0\n",
       "NORTHWEST ATLANTA AUTOMOTIVE GROUP, LLC                   0\n",
       "NORTHWEST ASSOCIATION FOR BIOMEDICAL RESEARCH             0\n",
       "NORTHWEST ARKANSAS NEWSPAPERS LLC                         0\n",
       "NORTHWEST ARKANSAS HOSPITALS, LLC                         0\n",
       "NORTHWEST ARKANSAS FENCING FOUNDATION, INC                0\n",
       "NORTHWEST AEROSPACE TECHNOLOGIES, INC.                    0\n",
       "NORTHUMBERLAND COUNTY PUBLIC SCHOOLS                      0\n",
       "NORTHWEST AEROSPACE TECHNOLOGIES INC.                     0\n",
       "NORTHWEST ACUPUNCTURE CENTER LLC                          0\n",
       "NORTHWEST 252 LLC                                         0\n",
       "NORTHWELL HEALTH, INC.                                    0\n",
       "NORTHWELL HEALTH                                          0\n",
       "NORTHWELL                                                 0\n",
       "NORTHVILLE SOCCER ASSOCIATION                             0\n",
       "NORTHVILLE CENTRAL SCHOOL DISTRICT                        0\n",
       "NORTHVILLE ANIMAL HOSPITAL                                0\n",
       "NORTHVIEW HOTEL GROUP, LLC                                0\n",
       "\"EXCELLENT COMPUTING DISTRIBUTORS INC\"                    0\n",
       "Name: EMPLOYER_NAME, Length: 236120, dtype: int64"
      ]
     },
     "execution_count": 313,
     "metadata": {},
     "output_type": "execute_result"
    }
   ],
   "source": [
    "df[df['SOC_NAME'] == 'SOFTWARE DEVELOPERS, APPLICATIONS' ]['EMPLOYER_NAME'].value_counts()"
   ]
  },
  {
   "cell_type": "code",
   "execution_count": 314,
   "metadata": {},
   "outputs": [
    {
     "data": {
      "text/plain": [
       "INFOSYS LIMITED                                    124393\n",
       "TATA CONSULTANCY SERVICES LIMITED                   50988\n",
       "WIPRO LIMITED                                       44213\n",
       "IBM INDIA PRIVATE LIMITED                           33490\n",
       "ACCENTURE LLP                                       30198\n",
       "HCL AMERICA, INC.                                   20151\n",
       "COGNIZANT TECHNOLOGY SOLUTIONS U.S. CORPORATION     16005\n",
       "DELOITTE CONSULTING LLP                             12009\n",
       "IGATE TECHNOLOGIES INC.                             11651\n",
       "LARSEN & TOUBRO INFOTECH LIMITED                    11363\n",
       "TECH MAHINDRA (AMERICAS),INC.                        8487\n",
       "CAPGEMINI AMERICA INC                                6566\n",
       "TECH MAHINDRA (AMERICAS), INC.                       5813\n",
       "UST GLOBAL INC.                                      5603\n",
       "UST GLOBAL INC                                       5473\n",
       "INTEL CORPORATION                                    5283\n",
       "HEXAWARE TECHNOLOGIES, INC.                          4398\n",
       "MICROSOFT CORPORATION                                4395\n",
       "IBM CORPORATION                                      4007\n",
       "MPHASIS CORPORATION                                  4004\n",
       "V-SOFT CONSULTING GROUP, INC                         3795\n",
       "ERNST & YOUNG U.S. LLP                               3668\n",
       "MINDTREE LIMITED                                     3618\n",
       "SYNTEL CONSULTING INC.                               3145\n",
       "PATNI AMERICAS INC.                                  2966\n",
       "QUALCOMM TECHNOLOGIES, INC.                          2950\n",
       "NTT DATA, INC.                                       2899\n",
       "PERSISTENT SYSTEMS, INC.                             2808\n",
       "CAPGEMINI FINANCIAL SERVICES USA INC                 2749\n",
       "DELOITTE & TOUCHE LLP                                2682\n",
       "                                                    ...  \n",
       "NHS HUMAN SERVICES, INC.                                0\n",
       "NHS HUMAN SERVICES                                      0\n",
       "NHS CHESTER COUNTY                                      0\n",
       "NHP CORPORATION                                         0\n",
       "NIAGARA FALLS COUNTRY CLUB                              0\n",
       "NIAGARA FALLS UNIVERSAL INC.                            0\n",
       "NICE GUY DISTRIBUTION, INC.                             0\n",
       "NIAGARA FOUNDATION                                      0\n",
       "NICCA USA, INC.                                         0\n",
       "NICANOR J. BAUTISTA DDS, INC.                           0\n",
       "NIC & ZOE COMPANY                                       0\n",
       "NIBUR INC.                                              0\n",
       "NIBRA INTERNATIONAL CORP.                               0\n",
       "NIBLACK PROJECT LLC                                     0\n",
       "NIBEI FOUNDATION                                        0\n",
       "NIBCO, INC.                                             0\n",
       "NIBCO INC.                                              0\n",
       "NIATA HEALTHCARE SYSTEMS INC.                           0\n",
       "NIANTIC INC.                                            0\n",
       "NIAMA-REISSER, LLC.                                     0\n",
       "NIAMA-REISSER, LLC                                      0\n",
       "NIAGARA WORLDWIDE LLC                                   0\n",
       "NIAGARA WIND & SOLAR, INC.                              0\n",
       "NIAGARA TRANSFORMER CORPORATION                         0\n",
       "NIAGARA THERMAL PRODUCTS LLC                            0\n",
       "NIAGARA MOHAWK POWER CORPORATION                        0\n",
       "NIAGARA METALS LLC                                      0\n",
       "NIAGARA LASALLE CORP.                                   0\n",
       "NIAGARA HOSPITALIST, P.C.                               0\n",
       "\"EXCELLENT COMPUTING DISTRIBUTORS INC\"                  0\n",
       "Name: EMPLOYER_NAME, Length: 236120, dtype: int64"
      ]
     },
     "execution_count": 314,
     "metadata": {},
     "output_type": "execute_result"
    }
   ],
   "source": [
    "df[df['SOC_NAME'] == 'COMPUTER OCCUPATIONS, ALL OTHER' ]['EMPLOYER_NAME'].value_counts()"
   ]
  },
  {
   "cell_type": "code",
   "execution_count": 315,
   "metadata": {},
   "outputs": [
    {
     "data": {
      "text/html": [
       "<div>\n",
       "<style scoped>\n",
       "    .dataframe tbody tr th:only-of-type {\n",
       "        vertical-align: middle;\n",
       "    }\n",
       "\n",
       "    .dataframe tbody tr th {\n",
       "        vertical-align: top;\n",
       "    }\n",
       "\n",
       "    .dataframe thead th {\n",
       "        text-align: right;\n",
       "    }\n",
       "</style>\n",
       "<table border=\"1\" class=\"dataframe\">\n",
       "  <thead>\n",
       "    <tr style=\"text-align: right;\">\n",
       "      <th></th>\n",
       "      <th>JOB_TITLE</th>\n",
       "      <th>PREVAILING_WAGE</th>\n",
       "    </tr>\n",
       "    <tr>\n",
       "      <th>CASE_ID</th>\n",
       "      <th></th>\n",
       "      <th></th>\n",
       "    </tr>\n",
       "  </thead>\n",
       "  <tbody>\n",
       "    <tr>\n",
       "      <th>131978</th>\n",
       "      <td>COMPUTER SYSTEMS ANALAYST</td>\n",
       "      <td>NaN</td>\n",
       "    </tr>\n",
       "    <tr>\n",
       "      <th>661607</th>\n",
       "      <td>PROJECT ENGINEER</td>\n",
       "      <td>NaN</td>\n",
       "    </tr>\n",
       "    <tr>\n",
       "      <th>818116</th>\n",
       "      <td>PROJECT MANAGER</td>\n",
       "      <td>NaN</td>\n",
       "    </tr>\n",
       "    <tr>\n",
       "      <th>1048304</th>\n",
       "      <td>COMPUTER SYSTEM ANALYST</td>\n",
       "      <td>NaN</td>\n",
       "    </tr>\n",
       "    <tr>\n",
       "      <th>1048975</th>\n",
       "      <td>BUSINESS INTELLIGENCE ANALYSTS</td>\n",
       "      <td>NaN</td>\n",
       "    </tr>\n",
       "    <tr>\n",
       "      <th>1049543</th>\n",
       "      <td>COMPUTER SYSTEM ANALYST</td>\n",
       "      <td>NaN</td>\n",
       "    </tr>\n",
       "    <tr>\n",
       "      <th>1103523</th>\n",
       "      <td>MENTAL HEALTH COUNSELOR</td>\n",
       "      <td>NaN</td>\n",
       "    </tr>\n",
       "    <tr>\n",
       "      <th>1159887</th>\n",
       "      <td>DENTIST</td>\n",
       "      <td>NaN</td>\n",
       "    </tr>\n",
       "    <tr>\n",
       "      <th>1256820</th>\n",
       "      <td>GRAPHIC DESIGNER</td>\n",
       "      <td>NaN</td>\n",
       "    </tr>\n",
       "    <tr>\n",
       "      <th>1327261</th>\n",
       "      <td>DESIGN</td>\n",
       "      <td>NaN</td>\n",
       "    </tr>\n",
       "    <tr>\n",
       "      <th>1373680</th>\n",
       "      <td>IT NETWORK MANAGER</td>\n",
       "      <td>NaN</td>\n",
       "    </tr>\n",
       "    <tr>\n",
       "      <th>1373961</th>\n",
       "      <td>MARKETING</td>\n",
       "      <td>NaN</td>\n",
       "    </tr>\n",
       "    <tr>\n",
       "      <th>1400582</th>\n",
       "      <td>NETWORK SUPPORT ADVISOR</td>\n",
       "      <td>NaN</td>\n",
       "    </tr>\n",
       "    <tr>\n",
       "      <th>1412284</th>\n",
       "      <td>OPERATION  MANAGER</td>\n",
       "      <td>NaN</td>\n",
       "    </tr>\n",
       "    <tr>\n",
       "      <th>1465739</th>\n",
       "      <td>FINANCIAL SPECIALIST</td>\n",
       "      <td>NaN</td>\n",
       "    </tr>\n",
       "    <tr>\n",
       "      <th>1598148</th>\n",
       "      <td>CIVIL ENGINEER</td>\n",
       "      <td>NaN</td>\n",
       "    </tr>\n",
       "    <tr>\n",
       "      <th>1614401</th>\n",
       "      <td>WEB DEVELOPERS</td>\n",
       "      <td>NaN</td>\n",
       "    </tr>\n",
       "    <tr>\n",
       "      <th>1663951</th>\n",
       "      <td>TEACHER</td>\n",
       "      <td>NaN</td>\n",
       "    </tr>\n",
       "    <tr>\n",
       "      <th>1774683</th>\n",
       "      <td>MARKET RESEARCH MANAGER</td>\n",
       "      <td>NaN</td>\n",
       "    </tr>\n",
       "    <tr>\n",
       "      <th>1779134</th>\n",
       "      <td>CIVIL ENGINEER</td>\n",
       "      <td>NaN</td>\n",
       "    </tr>\n",
       "    <tr>\n",
       "      <th>1781768</th>\n",
       "      <td>FRENCH SPEAKING CUSTOMER SERVICE REPRESENTATIVE</td>\n",
       "      <td>NaN</td>\n",
       "    </tr>\n",
       "    <tr>\n",
       "      <th>1785000</th>\n",
       "      <td>CIVIL ENGINEER</td>\n",
       "      <td>NaN</td>\n",
       "    </tr>\n",
       "    <tr>\n",
       "      <th>1786328</th>\n",
       "      <td>MANAGER</td>\n",
       "      <td>NaN</td>\n",
       "    </tr>\n",
       "    <tr>\n",
       "      <th>1810377</th>\n",
       "      <td>COUNSELOR</td>\n",
       "      <td>NaN</td>\n",
       "    </tr>\n",
       "    <tr>\n",
       "      <th>1837701</th>\n",
       "      <td>COMPUTER SYSTEMS ANALYST</td>\n",
       "      <td>NaN</td>\n",
       "    </tr>\n",
       "    <tr>\n",
       "      <th>1892625</th>\n",
       "      <td>SYSTEMS ENGINEER I</td>\n",
       "      <td>NaN</td>\n",
       "    </tr>\n",
       "    <tr>\n",
       "      <th>2033038</th>\n",
       "      <td>NaN</td>\n",
       "      <td>NaN</td>\n",
       "    </tr>\n",
       "    <tr>\n",
       "      <th>2104926</th>\n",
       "      <td>ELEMENTARY CO-TEACHER</td>\n",
       "      <td>NaN</td>\n",
       "    </tr>\n",
       "    <tr>\n",
       "      <th>2119782</th>\n",
       "      <td>MARKET RESEARCH ANALYST</td>\n",
       "      <td>NaN</td>\n",
       "    </tr>\n",
       "    <tr>\n",
       "      <th>2125908</th>\n",
       "      <td>CONSULTANT</td>\n",
       "      <td>NaN</td>\n",
       "    </tr>\n",
       "    <tr>\n",
       "      <th>...</th>\n",
       "      <td>...</td>\n",
       "      <td>...</td>\n",
       "    </tr>\n",
       "    <tr>\n",
       "      <th>2426063</th>\n",
       "      <td>SOFTWARE DEVELOPER</td>\n",
       "      <td>NaN</td>\n",
       "    </tr>\n",
       "    <tr>\n",
       "      <th>2434308</th>\n",
       "      <td>NaN</td>\n",
       "      <td>NaN</td>\n",
       "    </tr>\n",
       "    <tr>\n",
       "      <th>2442071</th>\n",
       "      <td>PHYSICAL THERAPIST</td>\n",
       "      <td>NaN</td>\n",
       "    </tr>\n",
       "    <tr>\n",
       "      <th>2456135</th>\n",
       "      <td>COMPUTER PROGRAMMER</td>\n",
       "      <td>NaN</td>\n",
       "    </tr>\n",
       "    <tr>\n",
       "      <th>2476203</th>\n",
       "      <td>OPERATIONS ENGINEER</td>\n",
       "      <td>NaN</td>\n",
       "    </tr>\n",
       "    <tr>\n",
       "      <th>2496408</th>\n",
       "      <td>TENNIS PROFESSIONAL/TRAINER</td>\n",
       "      <td>NaN</td>\n",
       "    </tr>\n",
       "    <tr>\n",
       "      <th>2506134</th>\n",
       "      <td>SOFTWARE ENGINEER</td>\n",
       "      <td>NaN</td>\n",
       "    </tr>\n",
       "    <tr>\n",
       "      <th>2522827</th>\n",
       "      <td>VICE PRESIDENT OF SALES &amp; PRICING</td>\n",
       "      <td>NaN</td>\n",
       "    </tr>\n",
       "    <tr>\n",
       "      <th>2529141</th>\n",
       "      <td>SOFTWARE PROGRAMMER</td>\n",
       "      <td>NaN</td>\n",
       "    </tr>\n",
       "    <tr>\n",
       "      <th>2538496</th>\n",
       "      <td>SENIOR SYSTEMS ANALYST</td>\n",
       "      <td>NaN</td>\n",
       "    </tr>\n",
       "    <tr>\n",
       "      <th>2539260</th>\n",
       "      <td>PROGRAMMER ANALYST</td>\n",
       "      <td>NaN</td>\n",
       "    </tr>\n",
       "    <tr>\n",
       "      <th>2545183</th>\n",
       "      <td>FASHION MODEL</td>\n",
       "      <td>NaN</td>\n",
       "    </tr>\n",
       "    <tr>\n",
       "      <th>2547059</th>\n",
       "      <td>DIRECTOR OF QUALITY ASSURANCE</td>\n",
       "      <td>NaN</td>\n",
       "    </tr>\n",
       "    <tr>\n",
       "      <th>2547064</th>\n",
       "      <td>MANAGER</td>\n",
       "      <td>NaN</td>\n",
       "    </tr>\n",
       "    <tr>\n",
       "      <th>2547100</th>\n",
       "      <td>FIELD ENGINEER</td>\n",
       "      <td>NaN</td>\n",
       "    </tr>\n",
       "    <tr>\n",
       "      <th>2552629</th>\n",
       "      <td>CORPORATE COMMUNICATIONS SPECIALIST</td>\n",
       "      <td>NaN</td>\n",
       "    </tr>\n",
       "    <tr>\n",
       "      <th>2598045</th>\n",
       "      <td>TEACHER</td>\n",
       "      <td>NaN</td>\n",
       "    </tr>\n",
       "    <tr>\n",
       "      <th>2643722</th>\n",
       "      <td>SYSTEMS ANALYST</td>\n",
       "      <td>NaN</td>\n",
       "    </tr>\n",
       "    <tr>\n",
       "      <th>2677929</th>\n",
       "      <td>XX</td>\n",
       "      <td>NaN</td>\n",
       "    </tr>\n",
       "    <tr>\n",
       "      <th>2691514</th>\n",
       "      <td>NaN</td>\n",
       "      <td>NaN</td>\n",
       "    </tr>\n",
       "    <tr>\n",
       "      <th>2707823</th>\n",
       "      <td>FITNESS STUDIO MANAGER</td>\n",
       "      <td>NaN</td>\n",
       "    </tr>\n",
       "    <tr>\n",
       "      <th>2708715</th>\n",
       "      <td>NaN</td>\n",
       "      <td>NaN</td>\n",
       "    </tr>\n",
       "    <tr>\n",
       "      <th>2755590</th>\n",
       "      <td>SENIOR ASSOCIATE</td>\n",
       "      <td>NaN</td>\n",
       "    </tr>\n",
       "    <tr>\n",
       "      <th>2775945</th>\n",
       "      <td>FRONT OFFICE INTERN</td>\n",
       "      <td>NaN</td>\n",
       "    </tr>\n",
       "    <tr>\n",
       "      <th>2802100</th>\n",
       "      <td>COMPUTER SYSTEMS ANAGLYST</td>\n",
       "      <td>NaN</td>\n",
       "    </tr>\n",
       "    <tr>\n",
       "      <th>2811197</th>\n",
       "      <td>FINANCIAL ANALYST</td>\n",
       "      <td>NaN</td>\n",
       "    </tr>\n",
       "    <tr>\n",
       "      <th>2828783</th>\n",
       "      <td>BUSINESS MANAGER</td>\n",
       "      <td>NaN</td>\n",
       "    </tr>\n",
       "    <tr>\n",
       "      <th>2829021</th>\n",
       "      <td>RESEARCH SPECIALIST</td>\n",
       "      <td>NaN</td>\n",
       "    </tr>\n",
       "    <tr>\n",
       "      <th>2841920</th>\n",
       "      <td>PROGRAMMER ANALYST</td>\n",
       "      <td>NaN</td>\n",
       "    </tr>\n",
       "    <tr>\n",
       "      <th>3000642</th>\n",
       "      <td>INTERIOR DESIGNER</td>\n",
       "      <td>NaN</td>\n",
       "    </tr>\n",
       "  </tbody>\n",
       "</table>\n",
       "<p>72 rows × 2 columns</p>\n",
       "</div>"
      ],
      "text/plain": [
       "                                               JOB_TITLE PREVAILING_WAGE\n",
       "CASE_ID                                                                 \n",
       "131978                         COMPUTER SYSTEMS ANALAYST             NaN\n",
       "661607                                  PROJECT ENGINEER             NaN\n",
       "818116                                   PROJECT MANAGER             NaN\n",
       "1048304                          COMPUTER SYSTEM ANALYST             NaN\n",
       "1048975                   BUSINESS INTELLIGENCE ANALYSTS             NaN\n",
       "1049543                          COMPUTER SYSTEM ANALYST             NaN\n",
       "1103523                          MENTAL HEALTH COUNSELOR             NaN\n",
       "1159887                                          DENTIST             NaN\n",
       "1256820                                 GRAPHIC DESIGNER             NaN\n",
       "1327261                                           DESIGN             NaN\n",
       "1373680                               IT NETWORK MANAGER             NaN\n",
       "1373961                                        MARKETING             NaN\n",
       "1400582                          NETWORK SUPPORT ADVISOR             NaN\n",
       "1412284                               OPERATION  MANAGER             NaN\n",
       "1465739                             FINANCIAL SPECIALIST             NaN\n",
       "1598148                                   CIVIL ENGINEER             NaN\n",
       "1614401                                   WEB DEVELOPERS             NaN\n",
       "1663951                                          TEACHER             NaN\n",
       "1774683                          MARKET RESEARCH MANAGER             NaN\n",
       "1779134                                   CIVIL ENGINEER             NaN\n",
       "1781768  FRENCH SPEAKING CUSTOMER SERVICE REPRESENTATIVE             NaN\n",
       "1785000                                   CIVIL ENGINEER             NaN\n",
       "1786328                                          MANAGER             NaN\n",
       "1810377                                        COUNSELOR             NaN\n",
       "1837701                         COMPUTER SYSTEMS ANALYST             NaN\n",
       "1892625                               SYSTEMS ENGINEER I             NaN\n",
       "2033038                                              NaN             NaN\n",
       "2104926                            ELEMENTARY CO-TEACHER             NaN\n",
       "2119782                          MARKET RESEARCH ANALYST             NaN\n",
       "2125908                                       CONSULTANT             NaN\n",
       "...                                                  ...             ...\n",
       "2426063                               SOFTWARE DEVELOPER             NaN\n",
       "2434308                                              NaN             NaN\n",
       "2442071                               PHYSICAL THERAPIST             NaN\n",
       "2456135                              COMPUTER PROGRAMMER             NaN\n",
       "2476203                              OPERATIONS ENGINEER             NaN\n",
       "2496408                      TENNIS PROFESSIONAL/TRAINER             NaN\n",
       "2506134                                SOFTWARE ENGINEER             NaN\n",
       "2522827                VICE PRESIDENT OF SALES & PRICING             NaN\n",
       "2529141                              SOFTWARE PROGRAMMER             NaN\n",
       "2538496                           SENIOR SYSTEMS ANALYST             NaN\n",
       "2539260                               PROGRAMMER ANALYST             NaN\n",
       "2545183                                    FASHION MODEL             NaN\n",
       "2547059                    DIRECTOR OF QUALITY ASSURANCE             NaN\n",
       "2547064                                          MANAGER             NaN\n",
       "2547100                                   FIELD ENGINEER             NaN\n",
       "2552629              CORPORATE COMMUNICATIONS SPECIALIST             NaN\n",
       "2598045                                          TEACHER             NaN\n",
       "2643722                                  SYSTEMS ANALYST             NaN\n",
       "2677929                                               XX             NaN\n",
       "2691514                                              NaN             NaN\n",
       "2707823                           FITNESS STUDIO MANAGER             NaN\n",
       "2708715                                              NaN             NaN\n",
       "2755590                                 SENIOR ASSOCIATE             NaN\n",
       "2775945                              FRONT OFFICE INTERN             NaN\n",
       "2802100                        COMPUTER SYSTEMS ANAGLYST             NaN\n",
       "2811197                                FINANCIAL ANALYST             NaN\n",
       "2828783                                 BUSINESS MANAGER             NaN\n",
       "2829021                              RESEARCH SPECIALIST             NaN\n",
       "2841920                               PROGRAMMER ANALYST             NaN\n",
       "3000642                                INTERIOR DESIGNER             NaN\n",
       "\n",
       "[72 rows x 2 columns]"
      ]
     },
     "execution_count": 315,
     "metadata": {},
     "output_type": "execute_result"
    }
   ],
   "source": [
    "wage_prevail_nan = df['PREVAILING_WAGE'].isnull()\n",
    "df[wage_prevail_nan].loc[:,['JOB_TITLE','PREVAILING_WAGE']]"
   ]
  },
  {
   "cell_type": "code",
   "execution_count": 316,
   "metadata": {},
   "outputs": [
    {
     "data": {
      "text/plain": [
       "PROGRAMMER ANALYST                                              249038\n",
       "SOFTWARE ENGINEER                                               121307\n",
       "COMPUTER PROGRAMMER                                              70570\n",
       "SYSTEMS ANALYST                                                  61965\n",
       "SOFTWARE DEVELOPER                                               42907\n",
       "BUSINESS ANALYST                                                 39681\n",
       "COMPUTER SYSTEMS ANALYST                                         35086\n",
       "TECHNOLOGY LEAD - US                                             28350\n",
       "SENIOR SOFTWARE ENGINEER                                         27133\n",
       "TECHNOLOGY ANALYST - US                                          26055\n",
       "ASSISTANT PROFESSOR                                              25265\n",
       "SENIOR CONSULTANT                                                24904\n",
       "CONSULTANT                                                       23081\n",
       "PHYSICAL THERAPIST                                               20207\n",
       "PROJECT MANAGER                                                  20172\n",
       "DATABASE ADMINISTRATOR                                           16665\n",
       "ACCOUNTANT                                                       14048\n",
       "COMPUTER PROGRAMMER ANALYST                                      13634\n",
       "RESEARCH ASSOCIATE                                               13623\n",
       "DEVELOPER                                                        12909\n",
       "ASSOCIATE                                                        12502\n",
       "ANALYST                                                          11751\n",
       "LEAD ENGINEER                                                    11157\n",
       "COMPUTER SYSTEMS ENGINEER                                        11090\n",
       "SENIOR SOFTWARE DEVELOPER                                        10208\n",
       "BUSINESS SYSTEMS ANALYST                                         10110\n",
       "SYSTEMS ENGINEER - US                                            10036\n",
       "PROGRAMMER/ANALYST                                                9375\n",
       "MARKET RESEARCH ANALYST                                           8934\n",
       "MANAGER                                                           8561\n",
       "                                                                 ...  \n",
       "PRINCIPAL RESEARCHER-COMPUTING SRVCS, PREDICTIVE ANALYTICS           1\n",
       "PRINCIPAL RESEARCHER, SPEECH AND FUSION NUI TECHNO                   1\n",
       "PRINCIPAL RESEARCH STATISTICIAN                                      1\n",
       "PRINCIPAL RESEARCH SCIENTIST (ACOUSTIC MODELING)                     1\n",
       "PRINCIPAL SALES SUPPORT MANAGER                                      1\n",
       "PRINCIPAL SALESFORCE DEVELOPER                                       1\n",
       "PRINCIPAL SALESFORCE SOLUTIONS ARCHITECT                             1\n",
       "PRINCIPAL SAP ABAP DEVELOPER                                         1\n",
       "PRINCIPAL SCIENTIST - IN-VITRO IMMUNOBIOLOGY                         1\n",
       "PRINCIPAL SCIENTIST - DATA MINING                                    1\n",
       "PRINCIPAL SCIENTIST - BIOLOGY DISCOVERY                              1\n",
       "PRINCIPAL SCIENTIST (MATERIALS SCIENTIST)                            1\n",
       "PRINCIPAL SCIENTIST (A COMPUTER AND INFORMATION RE                   1\n",
       "PRINCIPAL SCIENTIFIC SOFTWARE ENGINEER                               1\n",
       "PRINCIPAL SCIENTIFIC ENGINEERING ASSOCIATE (ENERGY ENGINEER)         1\n",
       "PRINCIPAL SCIENTIFIC ENGINEER ASSOCIATE                              1\n",
       "PRINCIPAL SCHEDULING ENGINEER                                        1\n",
       "PRINCIPAL SAS STATISTICAL PROGAMMER                                  1\n",
       "PRINCIPAL SAP/TM DEVELOPMENT ARCHITECT/CONSULTANT                    1\n",
       "PRINCIPAL SAP TM CONSULTANT                                          1\n",
       "PRINCIPAL SAP SECURITY ANALYST                                       1\n",
       "PRINCIPAL SAP SCM TECHNOLOGY CONSULTANT                              1\n",
       "PRINCIPAL SAP HRM SPECIALIST                                         1\n",
       "PRINCIPAL SAP HR/PAYROLL DEVELOPER                                   1\n",
       "PRINCIPAL SAP FUNCTIONAL LEAD                                        1\n",
       "PRINCIPAL SAP EMPLOYEE CENTRAL ARCHITECT                             1\n",
       "PRINCIPAL SAP CRM BUSINESS SYSTEMS ANALYST                           1\n",
       "PRINCIPAL SAP CONSULANT                                              1\n",
       "PRINCIPAL SAP BASIS ADMINISTRATOR                                    1\n",
       "\"BUSINESS SYSTEM ANALYST                                             1\n",
       "Name: JOB_TITLE, Length: 287770, dtype: int64"
      ]
     },
     "execution_count": 316,
     "metadata": {},
     "output_type": "execute_result"
    }
   ],
   "source": [
    "df['JOB_TITLE'].value_counts()"
   ]
  },
  {
   "cell_type": "code",
   "execution_count": 317,
   "metadata": {},
   "outputs": [
    {
     "data": {
      "text/plain": [
       "[POSTDOCTORAL RESEARCH FELLOW, CHIEF OPERATING OFFICER, CHIEF PROCESS OFFICER, REGIONAL PRESIDEN, AMERICAS, PRESIDENT MONGOLIA AND INDIA, ..., CHEMISTRY  - SCIENCE TEACHER, SALES AND LOGISTIC MANAGER, APPRAISERS, REAL ESTATE, SOFTWARE ENGINEER//DATA ARCHITECT, SYSWTEMS ADMINISTRATOR]\n",
       "Length: 287771\n",
       "Categories (287770, object): [POSTDOCTORAL RESEARCH FELLOW, CHIEF OPERATING OFFICER, CHIEF PROCESS OFFICER, REGIONAL PRESIDEN, AMERICAS, ..., SALES AND LOGISTIC MANAGER, APPRAISERS, REAL ESTATE, SOFTWARE ENGINEER//DATA ARCHITECT, SYSWTEMS ADMINISTRATOR]"
      ]
     },
     "execution_count": 317,
     "metadata": {},
     "output_type": "execute_result"
    }
   ],
   "source": [
    "df['JOB_TITLE'].unique()"
   ]
  },
  {
   "cell_type": "code",
   "execution_count": 318,
   "metadata": {},
   "outputs": [
    {
     "data": {
      "text/plain": [
       "0    PROGRAMMER ANALYST\n",
       "Name: JOB_TITLE, dtype: category\n",
       "Categories (287770, object): [\"BUSINESS SYSTEM ANALYST, \"SALES MANAGER, \"TEST\" SENIOR SCIENTIST, \"TRAIN THE TRAINER\" PROGRAM SUPERVISOR, ..., SYSTEMS ANALYST, TEAM LEAD - US, TECHNOLOGY ARCHITECT - US, TEST ANALYST - US]"
      ]
     },
     "execution_count": 318,
     "metadata": {},
     "output_type": "execute_result"
    }
   ],
   "source": [
    "df['JOB_TITLE'].mode()"
   ]
  },
  {
   "cell_type": "code",
   "execution_count": 319,
   "metadata": {},
   "outputs": [],
   "source": [
    "\n",
    "df['JOB_TITLE'].fillna('PROGRAMMER ANALYST', inplace=True)"
   ]
  },
  {
   "cell_type": "code",
   "execution_count": 320,
   "metadata": {},
   "outputs": [
    {
     "data": {
      "text/plain": [
       "CASE_STATUS            0\n",
       "EMPLOYER_NAME          0\n",
       "SOC_NAME               0\n",
       "JOB_TITLE              0\n",
       "FULL_TIME_POSITION     0\n",
       "PREVAILING_WAGE       72\n",
       "YEAR                   0\n",
       "WORKSITE               0\n",
       "dtype: int64"
      ]
     },
     "execution_count": 320,
     "metadata": {},
     "output_type": "execute_result"
    }
   ],
   "source": [
    "df.isnull().sum()"
   ]
  },
  {
   "cell_type": "code",
   "execution_count": 321,
   "metadata": {},
   "outputs": [],
   "source": [
    "df['PREVAILING_WAGE'] = df['PREVAILING_WAGE'].astype(float)\n"
   ]
  },
  {
   "cell_type": "code",
   "execution_count": 322,
   "metadata": {},
   "outputs": [
    {
     "name": "stdout",
     "output_type": "stream",
     "text": [
      "146998.4319151606\n",
      "65021.0\n",
      "6997606720.0\n",
      "0    60000.0\n",
      "dtype: float64\n"
     ]
    }
   ],
   "source": [
    "print(df['PREVAILING_WAGE'].mean(axis=0))\n",
    "print(df['PREVAILING_WAGE'].median(axis=0))\n",
    "print(df['PREVAILING_WAGE'].max(axis=0))\n",
    "print(df['PREVAILING_WAGE'].mode())"
   ]
  },
  {
   "cell_type": "code",
   "execution_count": 323,
   "metadata": {},
   "outputs": [
    {
     "data": {
      "text/plain": [
       "(10621, 8)"
      ]
     },
     "execution_count": 323,
     "metadata": {},
     "output_type": "execute_result"
    }
   ],
   "source": [
    "df[df['PREVAILING_WAGE'] >= 200000].shape"
   ]
  },
  {
   "cell_type": "code",
   "execution_count": 324,
   "metadata": {},
   "outputs": [
    {
     "data": {
      "text/plain": [
       "(2991752, 8)"
      ]
     },
     "execution_count": 324,
     "metadata": {},
     "output_type": "execute_result"
    }
   ],
   "source": [
    "df[df['PREVAILING_WAGE'] < 200000].shape"
   ]
  },
  {
   "cell_type": "code",
   "execution_count": 325,
   "metadata": {},
   "outputs": [
    {
     "name": "stdout",
     "output_type": "stream",
     "text": [
      "138965.0\n",
      "34000.0\n"
     ]
    }
   ],
   "source": [
    "##to check the percentile in wages\n",
    "print(np.nanpercentile(df.PREVAILING_WAGE,98))\n",
    "\n",
    "print(np.nanpercentile(df.PREVAILING_WAGE,2))"
   ]
  },
  {
   "cell_type": "code",
   "execution_count": 326,
   "metadata": {},
   "outputs": [
    {
     "data": {
      "text/plain": [
       "CASE_STATUS            0\n",
       "EMPLOYER_NAME          0\n",
       "SOC_NAME               0\n",
       "JOB_TITLE              0\n",
       "FULL_TIME_POSITION     0\n",
       "PREVAILING_WAGE       72\n",
       "YEAR                   0\n",
       "WORKSITE               0\n",
       "dtype: int64"
      ]
     },
     "execution_count": 326,
     "metadata": {},
     "output_type": "execute_result"
    }
   ],
   "source": [
    "df.isnull().sum()"
   ]
  },
  {
   "cell_type": "code",
   "execution_count": 327,
   "metadata": {},
   "outputs": [],
   "source": [
    "## Dealing with outliers - any wage above 200k\n",
    "h = df[df['PREVAILING_WAGE'] >= 200000].index\n",
    "## replacing min and max with 2 and 98 percentile\n",
    "df.loc[df.PREVAILING_WAGE < 34000, 'PREVAILING_WAGE']= 34000\n",
    "df.loc[df['PREVAILING_WAGE'] > 138703, 'PREVAILING_WAGE']= 138703\n",
    "df.PREVAILING_WAGE.fillna(df.PREVAILING_WAGE.mean(), inplace = True)"
   ]
  },
  {
   "cell_type": "code",
   "execution_count": 328,
   "metadata": {},
   "outputs": [
    {
     "data": {
      "text/plain": [
       "(3002445, 8)"
      ]
     },
     "execution_count": 328,
     "metadata": {},
     "output_type": "execute_result"
    }
   ],
   "source": [
    "df.shape"
   ]
  },
  {
   "cell_type": "code",
   "execution_count": 329,
   "metadata": {},
   "outputs": [
    {
     "data": {
      "text/html": [
       "<div>\n",
       "<style scoped>\n",
       "    .dataframe tbody tr th:only-of-type {\n",
       "        vertical-align: middle;\n",
       "    }\n",
       "\n",
       "    .dataframe tbody tr th {\n",
       "        vertical-align: top;\n",
       "    }\n",
       "\n",
       "    .dataframe thead th {\n",
       "        text-align: right;\n",
       "    }\n",
       "</style>\n",
       "<table border=\"1\" class=\"dataframe\">\n",
       "  <thead>\n",
       "    <tr style=\"text-align: right;\">\n",
       "      <th></th>\n",
       "      <th>CASE_STATUS</th>\n",
       "      <th>EMPLOYER_NAME</th>\n",
       "      <th>SOC_NAME</th>\n",
       "      <th>JOB_TITLE</th>\n",
       "      <th>FULL_TIME_POSITION</th>\n",
       "      <th>PREVAILING_WAGE</th>\n",
       "      <th>YEAR</th>\n",
       "      <th>WORKSITE</th>\n",
       "    </tr>\n",
       "    <tr>\n",
       "      <th>CASE_ID</th>\n",
       "      <th></th>\n",
       "      <th></th>\n",
       "      <th></th>\n",
       "      <th></th>\n",
       "      <th></th>\n",
       "      <th></th>\n",
       "      <th></th>\n",
       "      <th></th>\n",
       "    </tr>\n",
       "  </thead>\n",
       "  <tbody>\n",
       "    <tr>\n",
       "      <th>1</th>\n",
       "      <td>CERTIFIED-WITHDRAWN</td>\n",
       "      <td>UNIVERSITY OF MICHIGAN</td>\n",
       "      <td>BIOCHEMISTS AND BIOPHYSICISTS</td>\n",
       "      <td>POSTDOCTORAL RESEARCH FELLOW</td>\n",
       "      <td>N</td>\n",
       "      <td>36067.0</td>\n",
       "      <td>2016-01-01</td>\n",
       "      <td>ANN ARBOR, MICHIGAN</td>\n",
       "    </tr>\n",
       "    <tr>\n",
       "      <th>2</th>\n",
       "      <td>CERTIFIED-WITHDRAWN</td>\n",
       "      <td>GOODMAN NETWORKS, INC.</td>\n",
       "      <td>CHIEF EXECUTIVES232</td>\n",
       "      <td>CHIEF OPERATING OFFICER</td>\n",
       "      <td>Y</td>\n",
       "      <td>138703.0</td>\n",
       "      <td>2016-01-01</td>\n",
       "      <td>PLANO, TEXAS</td>\n",
       "    </tr>\n",
       "    <tr>\n",
       "      <th>3</th>\n",
       "      <td>CERTIFIED-WITHDRAWN</td>\n",
       "      <td>PORTS AMERICA GROUP, INC.</td>\n",
       "      <td>CHIEF EXECUTIVES232</td>\n",
       "      <td>CHIEF PROCESS OFFICER</td>\n",
       "      <td>Y</td>\n",
       "      <td>138703.0</td>\n",
       "      <td>2016-01-01</td>\n",
       "      <td>JERSEY CITY, NEW JERSEY</td>\n",
       "    </tr>\n",
       "    <tr>\n",
       "      <th>4</th>\n",
       "      <td>CERTIFIED-WITHDRAWN</td>\n",
       "      <td>GATES CORPORATION, A WHOLLY-OWNED SUBSIDIARY O...</td>\n",
       "      <td>CHIEF EXECUTIVES232</td>\n",
       "      <td>REGIONAL PRESIDEN, AMERICAS</td>\n",
       "      <td>Y</td>\n",
       "      <td>138703.0</td>\n",
       "      <td>2016-01-01</td>\n",
       "      <td>DENVER, COLORADO</td>\n",
       "    </tr>\n",
       "    <tr>\n",
       "      <th>5</th>\n",
       "      <td>WITHDRAWN</td>\n",
       "      <td>PEABODY INVESTMENTS CORP.</td>\n",
       "      <td>CHIEF EXECUTIVES232</td>\n",
       "      <td>PRESIDENT MONGOLIA AND INDIA</td>\n",
       "      <td>Y</td>\n",
       "      <td>138703.0</td>\n",
       "      <td>2016-01-01</td>\n",
       "      <td>ST. LOUIS, MISSOURI</td>\n",
       "    </tr>\n",
       "  </tbody>\n",
       "</table>\n",
       "</div>"
      ],
      "text/plain": [
       "                 CASE_STATUS  \\\n",
       "CASE_ID                        \n",
       "1        CERTIFIED-WITHDRAWN   \n",
       "2        CERTIFIED-WITHDRAWN   \n",
       "3        CERTIFIED-WITHDRAWN   \n",
       "4        CERTIFIED-WITHDRAWN   \n",
       "5                  WITHDRAWN   \n",
       "\n",
       "                                             EMPLOYER_NAME  \\\n",
       "CASE_ID                                                      \n",
       "1                                   UNIVERSITY OF MICHIGAN   \n",
       "2                                   GOODMAN NETWORKS, INC.   \n",
       "3                                PORTS AMERICA GROUP, INC.   \n",
       "4        GATES CORPORATION, A WHOLLY-OWNED SUBSIDIARY O...   \n",
       "5                                PEABODY INVESTMENTS CORP.   \n",
       "\n",
       "                              SOC_NAME                     JOB_TITLE  \\\n",
       "CASE_ID                                                                \n",
       "1        BIOCHEMISTS AND BIOPHYSICISTS  POSTDOCTORAL RESEARCH FELLOW   \n",
       "2                  CHIEF EXECUTIVES232       CHIEF OPERATING OFFICER   \n",
       "3                  CHIEF EXECUTIVES232         CHIEF PROCESS OFFICER   \n",
       "4                  CHIEF EXECUTIVES232   REGIONAL PRESIDEN, AMERICAS   \n",
       "5                  CHIEF EXECUTIVES232  PRESIDENT MONGOLIA AND INDIA   \n",
       "\n",
       "        FULL_TIME_POSITION  PREVAILING_WAGE       YEAR  \\\n",
       "CASE_ID                                                  \n",
       "1                        N          36067.0 2016-01-01   \n",
       "2                        Y         138703.0 2016-01-01   \n",
       "3                        Y         138703.0 2016-01-01   \n",
       "4                        Y         138703.0 2016-01-01   \n",
       "5                        Y         138703.0 2016-01-01   \n",
       "\n",
       "                        WORKSITE  \n",
       "CASE_ID                           \n",
       "1            ANN ARBOR, MICHIGAN  \n",
       "2                   PLANO, TEXAS  \n",
       "3        JERSEY CITY, NEW JERSEY  \n",
       "4               DENVER, COLORADO  \n",
       "5            ST. LOUIS, MISSOURI  "
      ]
     },
     "execution_count": 329,
     "metadata": {},
     "output_type": "execute_result"
    }
   ],
   "source": [
    "df.head()\n"
   ]
  },
  {
   "cell_type": "code",
   "execution_count": 330,
   "metadata": {},
   "outputs": [
    {
     "name": "stdout",
     "output_type": "stream",
     "text": [
      "69849.23844467157\n",
      "65021.0\n",
      "138703.0\n",
      "0    138703.0\n",
      "dtype: float64\n"
     ]
    }
   ],
   "source": [
    "print(df['PREVAILING_WAGE'].mean(axis=0))\n",
    "print(df['PREVAILING_WAGE'].median(axis=0))\n",
    "print(df['PREVAILING_WAGE'].max(axis=0))\n",
    "print(df['PREVAILING_WAGE'].mode())"
   ]
  },
  {
   "cell_type": "code",
   "execution_count": 331,
   "metadata": {},
   "outputs": [
    {
     "data": {
      "text/plain": [
       "CASE_STATUS           0\n",
       "EMPLOYER_NAME         0\n",
       "SOC_NAME              0\n",
       "JOB_TITLE             0\n",
       "FULL_TIME_POSITION    0\n",
       "PREVAILING_WAGE       0\n",
       "YEAR                  0\n",
       "WORKSITE              0\n",
       "dtype: int64"
      ]
     },
     "execution_count": 331,
     "metadata": {},
     "output_type": "execute_result"
    }
   ],
   "source": [
    "df.isnull().sum()"
   ]
  },
  {
   "cell_type": "code",
   "execution_count": 332,
   "metadata": {},
   "outputs": [
    {
     "data": {
      "text/plain": [
       "CASE_STATUS                   object\n",
       "EMPLOYER_NAME               category\n",
       "SOC_NAME                      object\n",
       "JOB_TITLE                   category\n",
       "FULL_TIME_POSITION            object\n",
       "PREVAILING_WAGE              float64\n",
       "YEAR                  datetime64[ns]\n",
       "WORKSITE                      object\n",
       "dtype: object"
      ]
     },
     "execution_count": 332,
     "metadata": {},
     "output_type": "execute_result"
    }
   ],
   "source": [
    "df.dtypes"
   ]
  },
  {
   "cell_type": "code",
   "execution_count": 333,
   "metadata": {},
   "outputs": [
    {
     "data": {
      "text/plain": [
       "array(['CERTIFIED-WITHDRAWN', 'WITHDRAWN', 'CERTIFIED',\n",
       "       'CERTIFIED-+--WITHDRAWN', 'DENIED', 'REJECTED', 'INVALIDATED',\n",
       "       'PENDING QUALITY AND COMPLIANCE REVIEW - UNASSIGNED'], dtype=object)"
      ]
     },
     "execution_count": 333,
     "metadata": {},
     "output_type": "execute_result"
    }
   ],
   "source": [
    "df['CASE_STATUS'].unique()"
   ]
  },
  {
   "cell_type": "code",
   "execution_count": 334,
   "metadata": {},
   "outputs": [],
   "source": [
    "g = df[df['CASE_STATUS'] == 'WITHDRAWN'].index\n",
    "df.drop(g,axis=0,inplace=True)"
   ]
  },
  {
   "cell_type": "code",
   "execution_count": 335,
   "metadata": {},
   "outputs": [
    {
     "data": {
      "text/plain": [
       "array(['CERTIFIED-WITHDRAWN', 'CERTIFIED', 'CERTIFIED-+--WITHDRAWN',\n",
       "       'DENIED', 'REJECTED', 'INVALIDATED',\n",
       "       'PENDING QUALITY AND COMPLIANCE REVIEW - UNASSIGNED'], dtype=object)"
      ]
     },
     "execution_count": 335,
     "metadata": {},
     "output_type": "execute_result"
    }
   ],
   "source": [
    "df['CASE_STATUS'].unique()"
   ]
  },
  {
   "cell_type": "code",
   "execution_count": 336,
   "metadata": {},
   "outputs": [],
   "source": [
    "df['CASE_STATUS'] = np.where(df['CASE_STATUS'].str.contains('CERTIFIED'), 'CERTIFIED', df['CASE_STATUS'] )\n",
    "df['CASE_STATUS'] = np.where(df['CASE_STATUS'].str.contains('INVALIDATED'), 'DENIED', df['CASE_STATUS'] )\n",
    "df['CASE_STATUS'] = np.where(df['CASE_STATUS'].str.contains('REJECTED'), 'DENIED', df['CASE_STATUS'] )\n",
    "df['CASE_STATUS'] = np.where(df['CASE_STATUS'].str.contains('UNASSIGNED'), 'DENIED', df['CASE_STATUS'] )"
   ]
  },
  {
   "cell_type": "code",
   "execution_count": 337,
   "metadata": {},
   "outputs": [
    {
     "data": {
      "text/plain": [
       "array(['CERTIFIED', 'DENIED'], dtype=object)"
      ]
     },
     "execution_count": 337,
     "metadata": {},
     "output_type": "execute_result"
    }
   ],
   "source": [
    "df['CASE_STATUS'].unique()"
   ]
  },
  {
   "cell_type": "code",
   "execution_count": 338,
   "metadata": {},
   "outputs": [
    {
     "data": {
      "text/plain": [
       "Index(['CASE_STATUS', 'EMPLOYER_NAME', 'SOC_NAME', 'JOB_TITLE',\n",
       "       'FULL_TIME_POSITION', 'PREVAILING_WAGE', 'YEAR', 'WORKSITE'],\n",
       "      dtype='object')"
      ]
     },
     "execution_count": 338,
     "metadata": {},
     "output_type": "execute_result"
    }
   ],
   "source": [
    "df.columns"
   ]
  },
  {
   "cell_type": "code",
   "execution_count": 339,
   "metadata": {},
   "outputs": [],
   "source": [
    "df['EMPLOYER_NAME'] = df['EMPLOYER_NAME'].str.lower() \n",
    "df['JOB_TITLE'] = df['JOB_TITLE'].str.lower() \n",
    "df['SOC_NAME'] = df['SOC_NAME'].str.lower() \n",
    "df['WORKSITE'] = df['WORKSITE'].str.lower()\n",
    "df['CASE_STATUS'] = df['CASE_STATUS'].str.lower()"
   ]
  },
  {
   "cell_type": "code",
   "execution_count": 340,
   "metadata": {},
   "outputs": [
    {
     "data": {
      "text/plain": [
       "computer occupations, all other                                           1247384\n",
       "software developers, applications                                          563777\n",
       "engineers                                                                  187139\n",
       "financial analysts                                                          71984\n",
       "management analysts                                                         65235\n",
       "accountants and auditors                                                    55159\n",
       "database administrators                                                     37902\n",
       "market research analysts and marketing specialists                          36331\n",
       "operations research analysts                                                33349\n",
       "physicians and surgeons, all other                                          32276\n",
       "medical scientists, except epidemiologists                                  25274\n",
       "physical therapists                                                         21248\n",
       "biochemists and biophysicists                                               20618\n",
       "statisticians                                                               16526\n",
       "biological scientists, all other                                            15850\n",
       "marketing managers                                                          15697\n",
       "internists, general                                                         12826\n",
       "chemists                                                                    12577\n",
       "graphic designers                                                           12018\n",
       "general and operations managers                                             10735\n",
       "commercial and industrial designers                                          9065\n",
       "pharmacists                                                                  9010\n",
       "health specialties teachers, postsecondary                                   8951\n",
       "lawyers                                                                      7766\n",
       "biological technicians                                                       7640\n",
       "logisticians                                                                 7512\n",
       "public relations specialists                                                 6998\n",
       "managers, all other                                                          6944\n",
       "business operations specialists, all other                                   6576\n",
       "elementary school teachers, except special educati                           6511\n",
       "                                                                           ...   \n",
       "butchers and meat cutters                                                       1\n",
       "clinical research coordinator                                                   1\n",
       "sheet metal workers                                                             1\n",
       "english language & literature teachers                                          1\n",
       "interior designer                                                               1\n",
       "photographic process workers and processing                                     1\n",
       "foreign language and literature teachers                                        1\n",
       "adult basic second educ and lit teach and instruc                               1\n",
       "photographic process workers                                                    1\n",
       "chemist                                                                         1\n",
       "secondary school teachers, except special educatio                              1\n",
       "sales representative                                                            1\n",
       "business systems analysts                                                       1\n",
       "funeral service managers                                                        1\n",
       "orthoptists                                                                     1\n",
       "marketing research analysts & marketing specialist                              1\n",
       "electrical enginers                                                             1\n",
       "foreign language and literature teachers, postsecondary                         1\n",
       "criminal justice and law enforcement teachers, postsecondary                    1\n",
       "online wage library                                                             1\n",
       "counseling psychologist                                                         1\n",
       "java developer                                                                  1\n",
       "costume attendants                                                              1\n",
       "helpers--painters, paperhangers, plasterers, and                                1\n",
       "marketing  managers                                                             1\n",
       "medical seicentists, except epidemiologists                                     1\n",
       "medical scientists, except edpidemiologists                                     1\n",
       "atmospheric, earth, marine, and space sciences teachers, postsecondary          1\n",
       "secur, commod, fin servs, sales agents                                          1\n",
       "securities commodities fin services sales agents                                1\n",
       "Name: SOC_NAME, Length: 1196, dtype: int64"
      ]
     },
     "execution_count": 340,
     "metadata": {},
     "output_type": "execute_result"
    }
   ],
   "source": [
    "df['SOC_NAME'].value_counts()"
   ]
  },
  {
   "cell_type": "code",
   "execution_count": 341,
   "metadata": {},
   "outputs": [
    {
     "data": {
      "text/plain": [
       "(136837, 8)"
      ]
     },
     "execution_count": 341,
     "metadata": {},
     "output_type": "execute_result"
    }
   ],
   "source": [
    "df[df['EMPLOYER_NAME'].str.contains('university')].shape"
   ]
  },
  {
   "cell_type": "code",
   "execution_count": 342,
   "metadata": {},
   "outputs": [],
   "source": [
    "df['NEW_EMPLOYER'] = np.where(df['EMPLOYER_NAME'].str.contains('university'), 'university', 'non university')"
   ]
  },
  {
   "cell_type": "code",
   "execution_count": 343,
   "metadata": {},
   "outputs": [
    {
     "data": {
      "text/plain": [
       "array(['university', 'non university', 'non university', ...,\n",
       "       'non university', 'non university', 'non university'], dtype=object)"
      ]
     },
     "execution_count": 343,
     "metadata": {},
     "output_type": "execute_result"
    }
   ],
   "source": [
    "df['NEW_EMPLOYER'].values"
   ]
  },
  {
   "cell_type": "code",
   "execution_count": 344,
   "metadata": {},
   "outputs": [
    {
     "data": {
      "text/html": [
       "<div>\n",
       "<style scoped>\n",
       "    .dataframe tbody tr th:only-of-type {\n",
       "        vertical-align: middle;\n",
       "    }\n",
       "\n",
       "    .dataframe tbody tr th {\n",
       "        vertical-align: top;\n",
       "    }\n",
       "\n",
       "    .dataframe thead th {\n",
       "        text-align: right;\n",
       "    }\n",
       "</style>\n",
       "<table border=\"1\" class=\"dataframe\">\n",
       "  <thead>\n",
       "    <tr style=\"text-align: right;\">\n",
       "      <th></th>\n",
       "      <th>CASE_STATUS</th>\n",
       "      <th>EMPLOYER_NAME</th>\n",
       "      <th>SOC_NAME</th>\n",
       "      <th>JOB_TITLE</th>\n",
       "      <th>FULL_TIME_POSITION</th>\n",
       "      <th>PREVAILING_WAGE</th>\n",
       "      <th>YEAR</th>\n",
       "      <th>WORKSITE</th>\n",
       "      <th>NEW_EMPLOYER</th>\n",
       "    </tr>\n",
       "    <tr>\n",
       "      <th>CASE_ID</th>\n",
       "      <th></th>\n",
       "      <th></th>\n",
       "      <th></th>\n",
       "      <th></th>\n",
       "      <th></th>\n",
       "      <th></th>\n",
       "      <th></th>\n",
       "      <th></th>\n",
       "      <th></th>\n",
       "    </tr>\n",
       "  </thead>\n",
       "  <tbody>\n",
       "    <tr>\n",
       "      <th>1</th>\n",
       "      <td>certified</td>\n",
       "      <td>university of michigan</td>\n",
       "      <td>biochemists and biophysicists</td>\n",
       "      <td>postdoctoral research fellow</td>\n",
       "      <td>N</td>\n",
       "      <td>36067.0</td>\n",
       "      <td>2016-01-01</td>\n",
       "      <td>ann arbor, michigan</td>\n",
       "      <td>university</td>\n",
       "    </tr>\n",
       "    <tr>\n",
       "      <th>2</th>\n",
       "      <td>certified</td>\n",
       "      <td>goodman networks, inc.</td>\n",
       "      <td>chief executives232</td>\n",
       "      <td>chief operating officer</td>\n",
       "      <td>Y</td>\n",
       "      <td>138703.0</td>\n",
       "      <td>2016-01-01</td>\n",
       "      <td>plano, texas</td>\n",
       "      <td>non university</td>\n",
       "    </tr>\n",
       "    <tr>\n",
       "      <th>3</th>\n",
       "      <td>certified</td>\n",
       "      <td>ports america group, inc.</td>\n",
       "      <td>chief executives232</td>\n",
       "      <td>chief process officer</td>\n",
       "      <td>Y</td>\n",
       "      <td>138703.0</td>\n",
       "      <td>2016-01-01</td>\n",
       "      <td>jersey city, new jersey</td>\n",
       "      <td>non university</td>\n",
       "    </tr>\n",
       "    <tr>\n",
       "      <th>4</th>\n",
       "      <td>certified</td>\n",
       "      <td>gates corporation, a wholly-owned subsidiary o...</td>\n",
       "      <td>chief executives232</td>\n",
       "      <td>regional presiden, americas</td>\n",
       "      <td>Y</td>\n",
       "      <td>138703.0</td>\n",
       "      <td>2016-01-01</td>\n",
       "      <td>denver, colorado</td>\n",
       "      <td>non university</td>\n",
       "    </tr>\n",
       "    <tr>\n",
       "      <th>6</th>\n",
       "      <td>certified</td>\n",
       "      <td>burger king corporation</td>\n",
       "      <td>chief executives232</td>\n",
       "      <td>executive v p, global development and presiden...</td>\n",
       "      <td>Y</td>\n",
       "      <td>138703.0</td>\n",
       "      <td>2016-01-01</td>\n",
       "      <td>miami, florida</td>\n",
       "      <td>non university</td>\n",
       "    </tr>\n",
       "  </tbody>\n",
       "</table>\n",
       "</div>"
      ],
      "text/plain": [
       "        CASE_STATUS                                      EMPLOYER_NAME  \\\n",
       "CASE_ID                                                                  \n",
       "1         certified                             university of michigan   \n",
       "2         certified                             goodman networks, inc.   \n",
       "3         certified                          ports america group, inc.   \n",
       "4         certified  gates corporation, a wholly-owned subsidiary o...   \n",
       "6         certified                            burger king corporation   \n",
       "\n",
       "                              SOC_NAME  \\\n",
       "CASE_ID                                  \n",
       "1        biochemists and biophysicists   \n",
       "2                  chief executives232   \n",
       "3                  chief executives232   \n",
       "4                  chief executives232   \n",
       "6                  chief executives232   \n",
       "\n",
       "                                                 JOB_TITLE FULL_TIME_POSITION  \\\n",
       "CASE_ID                                                                         \n",
       "1                             postdoctoral research fellow                  N   \n",
       "2                                  chief operating officer                  Y   \n",
       "3                                    chief process officer                  Y   \n",
       "4                              regional presiden, americas                  Y   \n",
       "6        executive v p, global development and presiden...                  Y   \n",
       "\n",
       "         PREVAILING_WAGE       YEAR                 WORKSITE    NEW_EMPLOYER  \n",
       "CASE_ID                                                                       \n",
       "1                36067.0 2016-01-01      ann arbor, michigan      university  \n",
       "2               138703.0 2016-01-01             plano, texas  non university  \n",
       "3               138703.0 2016-01-01  jersey city, new jersey  non university  \n",
       "4               138703.0 2016-01-01         denver, colorado  non university  \n",
       "6               138703.0 2016-01-01           miami, florida  non university  "
      ]
     },
     "execution_count": 344,
     "metadata": {},
     "output_type": "execute_result"
    }
   ],
   "source": [
    "df.head()"
   ]
  },
  {
   "cell_type": "code",
   "execution_count": 345,
   "metadata": {},
   "outputs": [
    {
     "data": {
      "text/plain": [
       "(25285, 9)"
      ]
     },
     "execution_count": 345,
     "metadata": {},
     "output_type": "execute_result"
    }
   ],
   "source": [
    "df[df['SOC_NAME'].str.contains('medical scientists','therapist')].shape"
   ]
  },
  {
   "cell_type": "code",
   "execution_count": 346,
   "metadata": {},
   "outputs": [],
   "source": [
    "df['SOC_NAME'] = np.where(df['SOC_NAME'].str.contains('medical scientists','physical therapists'), 'medical field', df['SOC_NAME'])\n",
    "df['SOC_NAME'] = np.where(df['SOC_NAME'].str.contains('physical therapists'), 'medical field', df['SOC_NAME'])"
   ]
  },
  {
   "cell_type": "code",
   "execution_count": 347,
   "metadata": {},
   "outputs": [],
   "source": [
    "\n",
    "df['SOC_NAME'] = np.where(df['SOC_NAME'].str.contains('computer','graphic'), 'computer occupations', df['SOC_NAME'])\n",
    "df['SOC_NAME'] = np.where(df['SOC_NAME'].str.contains('software','database administrators'), \n",
    "                          'computer occupations', df['SOC_NAME'])\n",
    "df['SOC_NAME'] = np.where(df['SOC_NAME'].str.contains('graphic designers'), 'computer occupations', df['SOC_NAME'])\n",
    "df['SOC_NAME'] = np.where(df['SOC_NAME'].str.contains('database administrators'), 'computer occupations', df['SOC_NAME'])"
   ]
  },
  {
   "cell_type": "code",
   "execution_count": 348,
   "metadata": {},
   "outputs": [
    {
     "data": {
      "text/html": [
       "<div>\n",
       "<style scoped>\n",
       "    .dataframe tbody tr th:only-of-type {\n",
       "        vertical-align: middle;\n",
       "    }\n",
       "\n",
       "    .dataframe tbody tr th {\n",
       "        vertical-align: top;\n",
       "    }\n",
       "\n",
       "    .dataframe thead th {\n",
       "        text-align: right;\n",
       "    }\n",
       "</style>\n",
       "<table border=\"1\" class=\"dataframe\">\n",
       "  <thead>\n",
       "    <tr style=\"text-align: right;\">\n",
       "      <th></th>\n",
       "      <th>CASE_STATUS</th>\n",
       "      <th>EMPLOYER_NAME</th>\n",
       "      <th>SOC_NAME</th>\n",
       "      <th>JOB_TITLE</th>\n",
       "      <th>FULL_TIME_POSITION</th>\n",
       "      <th>PREVAILING_WAGE</th>\n",
       "      <th>YEAR</th>\n",
       "      <th>WORKSITE</th>\n",
       "      <th>NEW_EMPLOYER</th>\n",
       "    </tr>\n",
       "    <tr>\n",
       "      <th>CASE_ID</th>\n",
       "      <th></th>\n",
       "      <th></th>\n",
       "      <th></th>\n",
       "      <th></th>\n",
       "      <th></th>\n",
       "      <th></th>\n",
       "      <th></th>\n",
       "      <th></th>\n",
       "      <th></th>\n",
       "    </tr>\n",
       "  </thead>\n",
       "  <tbody>\n",
       "    <tr>\n",
       "      <th>1</th>\n",
       "      <td>certified</td>\n",
       "      <td>university of michigan</td>\n",
       "      <td>biochemists and biophysicists</td>\n",
       "      <td>postdoctoral research fellow</td>\n",
       "      <td>N</td>\n",
       "      <td>36067.0</td>\n",
       "      <td>2016-01-01</td>\n",
       "      <td>ann arbor, michigan</td>\n",
       "      <td>university</td>\n",
       "    </tr>\n",
       "    <tr>\n",
       "      <th>2</th>\n",
       "      <td>certified</td>\n",
       "      <td>goodman networks, inc.</td>\n",
       "      <td>chief executives232</td>\n",
       "      <td>chief operating officer</td>\n",
       "      <td>Y</td>\n",
       "      <td>138703.0</td>\n",
       "      <td>2016-01-01</td>\n",
       "      <td>plano, texas</td>\n",
       "      <td>non university</td>\n",
       "    </tr>\n",
       "    <tr>\n",
       "      <th>3</th>\n",
       "      <td>certified</td>\n",
       "      <td>ports america group, inc.</td>\n",
       "      <td>chief executives232</td>\n",
       "      <td>chief process officer</td>\n",
       "      <td>Y</td>\n",
       "      <td>138703.0</td>\n",
       "      <td>2016-01-01</td>\n",
       "      <td>jersey city, new jersey</td>\n",
       "      <td>non university</td>\n",
       "    </tr>\n",
       "    <tr>\n",
       "      <th>4</th>\n",
       "      <td>certified</td>\n",
       "      <td>gates corporation, a wholly-owned subsidiary o...</td>\n",
       "      <td>chief executives232</td>\n",
       "      <td>regional presiden, americas</td>\n",
       "      <td>Y</td>\n",
       "      <td>138703.0</td>\n",
       "      <td>2016-01-01</td>\n",
       "      <td>denver, colorado</td>\n",
       "      <td>non university</td>\n",
       "    </tr>\n",
       "    <tr>\n",
       "      <th>6</th>\n",
       "      <td>certified</td>\n",
       "      <td>burger king corporation</td>\n",
       "      <td>chief executives232</td>\n",
       "      <td>executive v p, global development and presiden...</td>\n",
       "      <td>Y</td>\n",
       "      <td>138703.0</td>\n",
       "      <td>2016-01-01</td>\n",
       "      <td>miami, florida</td>\n",
       "      <td>non university</td>\n",
       "    </tr>\n",
       "  </tbody>\n",
       "</table>\n",
       "</div>"
      ],
      "text/plain": [
       "        CASE_STATUS                                      EMPLOYER_NAME  \\\n",
       "CASE_ID                                                                  \n",
       "1         certified                             university of michigan   \n",
       "2         certified                             goodman networks, inc.   \n",
       "3         certified                          ports america group, inc.   \n",
       "4         certified  gates corporation, a wholly-owned subsidiary o...   \n",
       "6         certified                            burger king corporation   \n",
       "\n",
       "                              SOC_NAME  \\\n",
       "CASE_ID                                  \n",
       "1        biochemists and biophysicists   \n",
       "2                  chief executives232   \n",
       "3                  chief executives232   \n",
       "4                  chief executives232   \n",
       "6                  chief executives232   \n",
       "\n",
       "                                                 JOB_TITLE FULL_TIME_POSITION  \\\n",
       "CASE_ID                                                                         \n",
       "1                             postdoctoral research fellow                  N   \n",
       "2                                  chief operating officer                  Y   \n",
       "3                                    chief process officer                  Y   \n",
       "4                              regional presiden, americas                  Y   \n",
       "6        executive v p, global development and presiden...                  Y   \n",
       "\n",
       "         PREVAILING_WAGE       YEAR                 WORKSITE    NEW_EMPLOYER  \n",
       "CASE_ID                                                                       \n",
       "1                36067.0 2016-01-01      ann arbor, michigan      university  \n",
       "2               138703.0 2016-01-01             plano, texas  non university  \n",
       "3               138703.0 2016-01-01  jersey city, new jersey  non university  \n",
       "4               138703.0 2016-01-01         denver, colorado  non university  \n",
       "6               138703.0 2016-01-01           miami, florida  non university  "
      ]
     },
     "execution_count": 348,
     "metadata": {},
     "output_type": "execute_result"
    }
   ],
   "source": [
    "df.head()"
   ]
  },
  {
   "cell_type": "code",
   "execution_count": 349,
   "metadata": {},
   "outputs": [
    {
     "data": {
      "text/plain": [
       "Index(['CASE_STATUS', 'EMPLOYER_NAME', 'SOC_NAME', 'JOB_TITLE',\n",
       "       'FULL_TIME_POSITION', 'PREVAILING_WAGE', 'YEAR', 'WORKSITE',\n",
       "       'NEW_EMPLOYER'],\n",
       "      dtype='object')"
      ]
     },
     "execution_count": 349,
     "metadata": {},
     "output_type": "execute_result"
    }
   ],
   "source": [
    "df.columns"
   ]
  },
  {
   "cell_type": "code",
   "execution_count": 350,
   "metadata": {},
   "outputs": [
    {
     "data": {
      "text/plain": [
       "array(['ann arbor, michigan', 'plano, texas', 'jersey city, new jersey',\n",
       "       ..., 'waldron, indiana', 'detroit, maine', 'tuan, massachusetts'],\n",
       "      dtype=object)"
      ]
     },
     "execution_count": 350,
     "metadata": {},
     "output_type": "execute_result"
    }
   ],
   "source": [
    "df['WORKSITE'].unique()"
   ]
  },
  {
   "cell_type": "code",
   "execution_count": 351,
   "metadata": {},
   "outputs": [],
   "source": [
    "## Splitting city and state and capturing state in another variable\n",
    "df['STATE'] = df.WORKSITE.str.split('\\s+').str[-1]"
   ]
  },
  {
   "cell_type": "code",
   "execution_count": 352,
   "metadata": {},
   "outputs": [
    {
     "name": "stdout",
     "output_type": "stream",
     "text": [
      "        CASE_STATUS                                      EMPLOYER_NAME  \\\n",
      "CASE_ID                                                                  \n",
      "1         certified                             university of michigan   \n",
      "2         certified                             goodman networks, inc.   \n",
      "3         certified                          ports america group, inc.   \n",
      "4         certified  gates corporation, a wholly-owned subsidiary o...   \n",
      "6         certified                            burger king corporation   \n",
      "\n",
      "                              SOC_NAME  \\\n",
      "CASE_ID                                  \n",
      "1        biochemists and biophysicists   \n",
      "2                  chief executives232   \n",
      "3                  chief executives232   \n",
      "4                  chief executives232   \n",
      "6                  chief executives232   \n",
      "\n",
      "                                                 JOB_TITLE FULL_TIME_POSITION  \\\n",
      "CASE_ID                                                                         \n",
      "1                             postdoctoral research fellow                  N   \n",
      "2                                  chief operating officer                  Y   \n",
      "3                                    chief process officer                  Y   \n",
      "4                              regional presiden, americas                  Y   \n",
      "6        executive v p, global development and presiden...                  Y   \n",
      "\n",
      "         PREVAILING_WAGE       YEAR                 WORKSITE    NEW_EMPLOYER  \\\n",
      "CASE_ID                                                                        \n",
      "1                36067.0 2016-01-01      ann arbor, michigan      university   \n",
      "2               138703.0 2016-01-01             plano, texas  non university   \n",
      "3               138703.0 2016-01-01  jersey city, new jersey  non university   \n",
      "4               138703.0 2016-01-01         denver, colorado  non university   \n",
      "6               138703.0 2016-01-01           miami, florida  non university   \n",
      "\n",
      "            STATE  \n",
      "CASE_ID            \n",
      "1        michigan  \n",
      "2           texas  \n",
      "3          jersey  \n",
      "4        colorado  \n",
      "6         florida  \n"
     ]
    }
   ],
   "source": [
    "print(df.head())"
   ]
  },
  {
   "cell_type": "code",
   "execution_count": 353,
   "metadata": {},
   "outputs": [
    {
     "data": {
      "text/html": [
       "<div>\n",
       "<style scoped>\n",
       "    .dataframe tbody tr th:only-of-type {\n",
       "        vertical-align: middle;\n",
       "    }\n",
       "\n",
       "    .dataframe tbody tr th {\n",
       "        vertical-align: top;\n",
       "    }\n",
       "\n",
       "    .dataframe thead th {\n",
       "        text-align: right;\n",
       "    }\n",
       "</style>\n",
       "<table border=\"1\" class=\"dataframe\">\n",
       "  <thead>\n",
       "    <tr style=\"text-align: right;\">\n",
       "      <th></th>\n",
       "      <th>CASE_STATUS</th>\n",
       "      <th>SOC_NAME</th>\n",
       "      <th>JOB_TITLE</th>\n",
       "      <th>FULL_TIME_POSITION</th>\n",
       "      <th>PREVAILING_WAGE</th>\n",
       "      <th>YEAR</th>\n",
       "      <th>NEW_EMPLOYER</th>\n",
       "      <th>STATE</th>\n",
       "    </tr>\n",
       "    <tr>\n",
       "      <th>CASE_ID</th>\n",
       "      <th></th>\n",
       "      <th></th>\n",
       "      <th></th>\n",
       "      <th></th>\n",
       "      <th></th>\n",
       "      <th></th>\n",
       "      <th></th>\n",
       "      <th></th>\n",
       "    </tr>\n",
       "  </thead>\n",
       "  <tbody>\n",
       "    <tr>\n",
       "      <th>1</th>\n",
       "      <td>certified</td>\n",
       "      <td>biochemists and biophysicists</td>\n",
       "      <td>postdoctoral research fellow</td>\n",
       "      <td>N</td>\n",
       "      <td>36067.0</td>\n",
       "      <td>2016-01-01</td>\n",
       "      <td>university</td>\n",
       "      <td>michigan</td>\n",
       "    </tr>\n",
       "    <tr>\n",
       "      <th>2</th>\n",
       "      <td>certified</td>\n",
       "      <td>chief executives232</td>\n",
       "      <td>chief operating officer</td>\n",
       "      <td>Y</td>\n",
       "      <td>138703.0</td>\n",
       "      <td>2016-01-01</td>\n",
       "      <td>non university</td>\n",
       "      <td>texas</td>\n",
       "    </tr>\n",
       "    <tr>\n",
       "      <th>3</th>\n",
       "      <td>certified</td>\n",
       "      <td>chief executives232</td>\n",
       "      <td>chief process officer</td>\n",
       "      <td>Y</td>\n",
       "      <td>138703.0</td>\n",
       "      <td>2016-01-01</td>\n",
       "      <td>non university</td>\n",
       "      <td>jersey</td>\n",
       "    </tr>\n",
       "    <tr>\n",
       "      <th>4</th>\n",
       "      <td>certified</td>\n",
       "      <td>chief executives232</td>\n",
       "      <td>regional presiden, americas</td>\n",
       "      <td>Y</td>\n",
       "      <td>138703.0</td>\n",
       "      <td>2016-01-01</td>\n",
       "      <td>non university</td>\n",
       "      <td>colorado</td>\n",
       "    </tr>\n",
       "    <tr>\n",
       "      <th>6</th>\n",
       "      <td>certified</td>\n",
       "      <td>chief executives232</td>\n",
       "      <td>executive v p, global development and presiden...</td>\n",
       "      <td>Y</td>\n",
       "      <td>138703.0</td>\n",
       "      <td>2016-01-01</td>\n",
       "      <td>non university</td>\n",
       "      <td>florida</td>\n",
       "    </tr>\n",
       "  </tbody>\n",
       "</table>\n",
       "</div>"
      ],
      "text/plain": [
       "        CASE_STATUS                       SOC_NAME  \\\n",
       "CASE_ID                                              \n",
       "1         certified  biochemists and biophysicists   \n",
       "2         certified            chief executives232   \n",
       "3         certified            chief executives232   \n",
       "4         certified            chief executives232   \n",
       "6         certified            chief executives232   \n",
       "\n",
       "                                                 JOB_TITLE FULL_TIME_POSITION  \\\n",
       "CASE_ID                                                                         \n",
       "1                             postdoctoral research fellow                  N   \n",
       "2                                  chief operating officer                  Y   \n",
       "3                                    chief process officer                  Y   \n",
       "4                              regional presiden, americas                  Y   \n",
       "6        executive v p, global development and presiden...                  Y   \n",
       "\n",
       "         PREVAILING_WAGE       YEAR    NEW_EMPLOYER     STATE  \n",
       "CASE_ID                                                        \n",
       "1                36067.0 2016-01-01      university  michigan  \n",
       "2               138703.0 2016-01-01  non university     texas  \n",
       "3               138703.0 2016-01-01  non university    jersey  \n",
       "4               138703.0 2016-01-01  non university  colorado  \n",
       "6               138703.0 2016-01-01  non university   florida  "
      ]
     },
     "execution_count": 353,
     "metadata": {},
     "output_type": "execute_result"
    }
   ],
   "source": [
    "df_2 = df.drop(columns=['EMPLOYER_NAME','WORKSITE'])\n",
    "df_2.head()"
   ]
  },
  {
   "cell_type": "code",
   "execution_count": null,
   "metadata": {},
   "outputs": [],
   "source": [
    "#sns.countplot(df['EMPLOYER_NAME'], hue= df['CASE_STATUS'])"
   ]
  },
  {
   "cell_type": "code",
   "execution_count": null,
   "metadata": {},
   "outputs": [],
   "source": [
    "#f = ['CASE_STATUS', 'EMPLOYER_NAME', 'SOC_NAME', 'JOB_TITLE',\n",
    "#       'FULL_TIME_POSITION', 'PREVAILING_WAGE', 'YEAR', 'WORKSITE']\n",
    "#count = 0\n",
    "#while count < len(f):\n",
    "#    ax = plt.subplots\n",
    "#    sns.countplot(df[f[count]], hue= df['CASE_STATUS'])\n",
    "#   count += 1"
   ]
  },
  {
   "cell_type": "code",
   "execution_count": null,
   "metadata": {},
   "outputs": [],
   "source": []
  }
 ],
 "metadata": {
  "kernelspec": {
   "display_name": "Python 3",
   "language": "python",
   "name": "python3"
  },
  "language_info": {
   "codemirror_mode": {
    "name": "ipython",
    "version": 3
   },
   "file_extension": ".py",
   "mimetype": "text/x-python",
   "name": "python",
   "nbconvert_exporter": "python",
   "pygments_lexer": "ipython3",
   "version": "3.7.1"
  }
 },
 "nbformat": 4,
 "nbformat_minor": 2
}
